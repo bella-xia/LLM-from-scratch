{
  "nbformat": 4,
  "nbformat_minor": 0,
  "metadata": {
    "colab": {
      "provenance": [],
      "collapsed_sections": [
        "7bL4BY0yhQYL"
      ],
      "machine_shape": "hm",
      "authorship_tag": "ABX9TyMljrrVb576xoaZ7omtvJJG",
      "include_colab_link": true
    },
    "kernelspec": {
      "name": "python3",
      "display_name": "Python 3"
    },
    "language_info": {
      "name": "python"
    },
    "widgets": {
      "application/vnd.jupyter.widget-state+json": {
        "d8b26cce69e94632a6b35bb89167965a": {
          "model_module": "@jupyter-widgets/controls",
          "model_name": "HBoxModel",
          "model_module_version": "1.5.0",
          "state": {
            "_dom_classes": [],
            "_model_module": "@jupyter-widgets/controls",
            "_model_module_version": "1.5.0",
            "_model_name": "HBoxModel",
            "_view_count": null,
            "_view_module": "@jupyter-widgets/controls",
            "_view_module_version": "1.5.0",
            "_view_name": "HBoxView",
            "box_style": "",
            "children": [
              "IPY_MODEL_1b550486a9c746caba5fb3268e6520a0",
              "IPY_MODEL_24aec3f1524545f083a791fcbfbd79dd",
              "IPY_MODEL_5890f3dc31b04acd8ff4936ca8c0bd99"
            ],
            "layout": "IPY_MODEL_e80bf188af414addb48ae3c9a9155314"
          }
        },
        "1b550486a9c746caba5fb3268e6520a0": {
          "model_module": "@jupyter-widgets/controls",
          "model_name": "HTMLModel",
          "model_module_version": "1.5.0",
          "state": {
            "_dom_classes": [],
            "_model_module": "@jupyter-widgets/controls",
            "_model_module_version": "1.5.0",
            "_model_name": "HTMLModel",
            "_view_count": null,
            "_view_module": "@jupyter-widgets/controls",
            "_view_module_version": "1.5.0",
            "_view_name": "HTMLView",
            "description": "",
            "description_tooltip": null,
            "layout": "IPY_MODEL_2c0e86a87fcc497d9967c21894f712d1",
            "placeholder": "​",
            "style": "IPY_MODEL_931cd7340ff7448c8755f158a0aca1d4",
            "value": "tokenizer_config.json: 100%"
          }
        },
        "24aec3f1524545f083a791fcbfbd79dd": {
          "model_module": "@jupyter-widgets/controls",
          "model_name": "FloatProgressModel",
          "model_module_version": "1.5.0",
          "state": {
            "_dom_classes": [],
            "_model_module": "@jupyter-widgets/controls",
            "_model_module_version": "1.5.0",
            "_model_name": "FloatProgressModel",
            "_view_count": null,
            "_view_module": "@jupyter-widgets/controls",
            "_view_module_version": "1.5.0",
            "_view_name": "ProgressView",
            "bar_style": "success",
            "description": "",
            "description_tooltip": null,
            "layout": "IPY_MODEL_45d8b4cf53384db2a579dbcf1a6c8528",
            "max": 26,
            "min": 0,
            "orientation": "horizontal",
            "style": "IPY_MODEL_c64aac41d0a4499fa8577ffb4bda4c40",
            "value": 26
          }
        },
        "5890f3dc31b04acd8ff4936ca8c0bd99": {
          "model_module": "@jupyter-widgets/controls",
          "model_name": "HTMLModel",
          "model_module_version": "1.5.0",
          "state": {
            "_dom_classes": [],
            "_model_module": "@jupyter-widgets/controls",
            "_model_module_version": "1.5.0",
            "_model_name": "HTMLModel",
            "_view_count": null,
            "_view_module": "@jupyter-widgets/controls",
            "_view_module_version": "1.5.0",
            "_view_name": "HTMLView",
            "description": "",
            "description_tooltip": null,
            "layout": "IPY_MODEL_9878b8dce09144f487ede7f3b8e7de55",
            "placeholder": "​",
            "style": "IPY_MODEL_eb5395fc41544240840a4324bdf345bf",
            "value": " 26.0/26.0 [00:00&lt;00:00, 3.33kB/s]"
          }
        },
        "e80bf188af414addb48ae3c9a9155314": {
          "model_module": "@jupyter-widgets/base",
          "model_name": "LayoutModel",
          "model_module_version": "1.2.0",
          "state": {
            "_model_module": "@jupyter-widgets/base",
            "_model_module_version": "1.2.0",
            "_model_name": "LayoutModel",
            "_view_count": null,
            "_view_module": "@jupyter-widgets/base",
            "_view_module_version": "1.2.0",
            "_view_name": "LayoutView",
            "align_content": null,
            "align_items": null,
            "align_self": null,
            "border": null,
            "bottom": null,
            "display": null,
            "flex": null,
            "flex_flow": null,
            "grid_area": null,
            "grid_auto_columns": null,
            "grid_auto_flow": null,
            "grid_auto_rows": null,
            "grid_column": null,
            "grid_gap": null,
            "grid_row": null,
            "grid_template_areas": null,
            "grid_template_columns": null,
            "grid_template_rows": null,
            "height": null,
            "justify_content": null,
            "justify_items": null,
            "left": null,
            "margin": null,
            "max_height": null,
            "max_width": null,
            "min_height": null,
            "min_width": null,
            "object_fit": null,
            "object_position": null,
            "order": null,
            "overflow": null,
            "overflow_x": null,
            "overflow_y": null,
            "padding": null,
            "right": null,
            "top": null,
            "visibility": null,
            "width": null
          }
        },
        "2c0e86a87fcc497d9967c21894f712d1": {
          "model_module": "@jupyter-widgets/base",
          "model_name": "LayoutModel",
          "model_module_version": "1.2.0",
          "state": {
            "_model_module": "@jupyter-widgets/base",
            "_model_module_version": "1.2.0",
            "_model_name": "LayoutModel",
            "_view_count": null,
            "_view_module": "@jupyter-widgets/base",
            "_view_module_version": "1.2.0",
            "_view_name": "LayoutView",
            "align_content": null,
            "align_items": null,
            "align_self": null,
            "border": null,
            "bottom": null,
            "display": null,
            "flex": null,
            "flex_flow": null,
            "grid_area": null,
            "grid_auto_columns": null,
            "grid_auto_flow": null,
            "grid_auto_rows": null,
            "grid_column": null,
            "grid_gap": null,
            "grid_row": null,
            "grid_template_areas": null,
            "grid_template_columns": null,
            "grid_template_rows": null,
            "height": null,
            "justify_content": null,
            "justify_items": null,
            "left": null,
            "margin": null,
            "max_height": null,
            "max_width": null,
            "min_height": null,
            "min_width": null,
            "object_fit": null,
            "object_position": null,
            "order": null,
            "overflow": null,
            "overflow_x": null,
            "overflow_y": null,
            "padding": null,
            "right": null,
            "top": null,
            "visibility": null,
            "width": null
          }
        },
        "931cd7340ff7448c8755f158a0aca1d4": {
          "model_module": "@jupyter-widgets/controls",
          "model_name": "DescriptionStyleModel",
          "model_module_version": "1.5.0",
          "state": {
            "_model_module": "@jupyter-widgets/controls",
            "_model_module_version": "1.5.0",
            "_model_name": "DescriptionStyleModel",
            "_view_count": null,
            "_view_module": "@jupyter-widgets/base",
            "_view_module_version": "1.2.0",
            "_view_name": "StyleView",
            "description_width": ""
          }
        },
        "45d8b4cf53384db2a579dbcf1a6c8528": {
          "model_module": "@jupyter-widgets/base",
          "model_name": "LayoutModel",
          "model_module_version": "1.2.0",
          "state": {
            "_model_module": "@jupyter-widgets/base",
            "_model_module_version": "1.2.0",
            "_model_name": "LayoutModel",
            "_view_count": null,
            "_view_module": "@jupyter-widgets/base",
            "_view_module_version": "1.2.0",
            "_view_name": "LayoutView",
            "align_content": null,
            "align_items": null,
            "align_self": null,
            "border": null,
            "bottom": null,
            "display": null,
            "flex": null,
            "flex_flow": null,
            "grid_area": null,
            "grid_auto_columns": null,
            "grid_auto_flow": null,
            "grid_auto_rows": null,
            "grid_column": null,
            "grid_gap": null,
            "grid_row": null,
            "grid_template_areas": null,
            "grid_template_columns": null,
            "grid_template_rows": null,
            "height": null,
            "justify_content": null,
            "justify_items": null,
            "left": null,
            "margin": null,
            "max_height": null,
            "max_width": null,
            "min_height": null,
            "min_width": null,
            "object_fit": null,
            "object_position": null,
            "order": null,
            "overflow": null,
            "overflow_x": null,
            "overflow_y": null,
            "padding": null,
            "right": null,
            "top": null,
            "visibility": null,
            "width": null
          }
        },
        "c64aac41d0a4499fa8577ffb4bda4c40": {
          "model_module": "@jupyter-widgets/controls",
          "model_name": "ProgressStyleModel",
          "model_module_version": "1.5.0",
          "state": {
            "_model_module": "@jupyter-widgets/controls",
            "_model_module_version": "1.5.0",
            "_model_name": "ProgressStyleModel",
            "_view_count": null,
            "_view_module": "@jupyter-widgets/base",
            "_view_module_version": "1.2.0",
            "_view_name": "StyleView",
            "bar_color": null,
            "description_width": ""
          }
        },
        "9878b8dce09144f487ede7f3b8e7de55": {
          "model_module": "@jupyter-widgets/base",
          "model_name": "LayoutModel",
          "model_module_version": "1.2.0",
          "state": {
            "_model_module": "@jupyter-widgets/base",
            "_model_module_version": "1.2.0",
            "_model_name": "LayoutModel",
            "_view_count": null,
            "_view_module": "@jupyter-widgets/base",
            "_view_module_version": "1.2.0",
            "_view_name": "LayoutView",
            "align_content": null,
            "align_items": null,
            "align_self": null,
            "border": null,
            "bottom": null,
            "display": null,
            "flex": null,
            "flex_flow": null,
            "grid_area": null,
            "grid_auto_columns": null,
            "grid_auto_flow": null,
            "grid_auto_rows": null,
            "grid_column": null,
            "grid_gap": null,
            "grid_row": null,
            "grid_template_areas": null,
            "grid_template_columns": null,
            "grid_template_rows": null,
            "height": null,
            "justify_content": null,
            "justify_items": null,
            "left": null,
            "margin": null,
            "max_height": null,
            "max_width": null,
            "min_height": null,
            "min_width": null,
            "object_fit": null,
            "object_position": null,
            "order": null,
            "overflow": null,
            "overflow_x": null,
            "overflow_y": null,
            "padding": null,
            "right": null,
            "top": null,
            "visibility": null,
            "width": null
          }
        },
        "eb5395fc41544240840a4324bdf345bf": {
          "model_module": "@jupyter-widgets/controls",
          "model_name": "DescriptionStyleModel",
          "model_module_version": "1.5.0",
          "state": {
            "_model_module": "@jupyter-widgets/controls",
            "_model_module_version": "1.5.0",
            "_model_name": "DescriptionStyleModel",
            "_view_count": null,
            "_view_module": "@jupyter-widgets/base",
            "_view_module_version": "1.2.0",
            "_view_name": "StyleView",
            "description_width": ""
          }
        },
        "fbf03b600d0c4655af52f10770d87de7": {
          "model_module": "@jupyter-widgets/controls",
          "model_name": "HBoxModel",
          "model_module_version": "1.5.0",
          "state": {
            "_dom_classes": [],
            "_model_module": "@jupyter-widgets/controls",
            "_model_module_version": "1.5.0",
            "_model_name": "HBoxModel",
            "_view_count": null,
            "_view_module": "@jupyter-widgets/controls",
            "_view_module_version": "1.5.0",
            "_view_name": "HBoxView",
            "box_style": "",
            "children": [
              "IPY_MODEL_9061edd7723e4a8f980d133ca5a30fe2",
              "IPY_MODEL_d5970b2271b2428498329d6e6a9174f2",
              "IPY_MODEL_13980191ed144f32b8bcaf35a05cd7ad"
            ],
            "layout": "IPY_MODEL_1a96cb47858e43898a49c1b17492cb68"
          }
        },
        "9061edd7723e4a8f980d133ca5a30fe2": {
          "model_module": "@jupyter-widgets/controls",
          "model_name": "HTMLModel",
          "model_module_version": "1.5.0",
          "state": {
            "_dom_classes": [],
            "_model_module": "@jupyter-widgets/controls",
            "_model_module_version": "1.5.0",
            "_model_name": "HTMLModel",
            "_view_count": null,
            "_view_module": "@jupyter-widgets/controls",
            "_view_module_version": "1.5.0",
            "_view_name": "HTMLView",
            "description": "",
            "description_tooltip": null,
            "layout": "IPY_MODEL_7a0c4dee51314889b714e369b4425fa8",
            "placeholder": "​",
            "style": "IPY_MODEL_6fa5da8387d54a428f1e9914fb71fe0e",
            "value": "vocab.json: 100%"
          }
        },
        "d5970b2271b2428498329d6e6a9174f2": {
          "model_module": "@jupyter-widgets/controls",
          "model_name": "FloatProgressModel",
          "model_module_version": "1.5.0",
          "state": {
            "_dom_classes": [],
            "_model_module": "@jupyter-widgets/controls",
            "_model_module_version": "1.5.0",
            "_model_name": "FloatProgressModel",
            "_view_count": null,
            "_view_module": "@jupyter-widgets/controls",
            "_view_module_version": "1.5.0",
            "_view_name": "ProgressView",
            "bar_style": "success",
            "description": "",
            "description_tooltip": null,
            "layout": "IPY_MODEL_fe5c6d49ff2949ccbb56fad65707ef38",
            "max": 1042301,
            "min": 0,
            "orientation": "horizontal",
            "style": "IPY_MODEL_ef7c9f7483cb4f418208499dbcbc1cc6",
            "value": 1042301
          }
        },
        "13980191ed144f32b8bcaf35a05cd7ad": {
          "model_module": "@jupyter-widgets/controls",
          "model_name": "HTMLModel",
          "model_module_version": "1.5.0",
          "state": {
            "_dom_classes": [],
            "_model_module": "@jupyter-widgets/controls",
            "_model_module_version": "1.5.0",
            "_model_name": "HTMLModel",
            "_view_count": null,
            "_view_module": "@jupyter-widgets/controls",
            "_view_module_version": "1.5.0",
            "_view_name": "HTMLView",
            "description": "",
            "description_tooltip": null,
            "layout": "IPY_MODEL_6b0b0fa75a624dd3b106841bfdc30f35",
            "placeholder": "​",
            "style": "IPY_MODEL_6d5d45c7b0614bf3a0cfc1736b4659ee",
            "value": " 1.04M/1.04M [00:00&lt;00:00, 1.95MB/s]"
          }
        },
        "1a96cb47858e43898a49c1b17492cb68": {
          "model_module": "@jupyter-widgets/base",
          "model_name": "LayoutModel",
          "model_module_version": "1.2.0",
          "state": {
            "_model_module": "@jupyter-widgets/base",
            "_model_module_version": "1.2.0",
            "_model_name": "LayoutModel",
            "_view_count": null,
            "_view_module": "@jupyter-widgets/base",
            "_view_module_version": "1.2.0",
            "_view_name": "LayoutView",
            "align_content": null,
            "align_items": null,
            "align_self": null,
            "border": null,
            "bottom": null,
            "display": null,
            "flex": null,
            "flex_flow": null,
            "grid_area": null,
            "grid_auto_columns": null,
            "grid_auto_flow": null,
            "grid_auto_rows": null,
            "grid_column": null,
            "grid_gap": null,
            "grid_row": null,
            "grid_template_areas": null,
            "grid_template_columns": null,
            "grid_template_rows": null,
            "height": null,
            "justify_content": null,
            "justify_items": null,
            "left": null,
            "margin": null,
            "max_height": null,
            "max_width": null,
            "min_height": null,
            "min_width": null,
            "object_fit": null,
            "object_position": null,
            "order": null,
            "overflow": null,
            "overflow_x": null,
            "overflow_y": null,
            "padding": null,
            "right": null,
            "top": null,
            "visibility": null,
            "width": null
          }
        },
        "7a0c4dee51314889b714e369b4425fa8": {
          "model_module": "@jupyter-widgets/base",
          "model_name": "LayoutModel",
          "model_module_version": "1.2.0",
          "state": {
            "_model_module": "@jupyter-widgets/base",
            "_model_module_version": "1.2.0",
            "_model_name": "LayoutModel",
            "_view_count": null,
            "_view_module": "@jupyter-widgets/base",
            "_view_module_version": "1.2.0",
            "_view_name": "LayoutView",
            "align_content": null,
            "align_items": null,
            "align_self": null,
            "border": null,
            "bottom": null,
            "display": null,
            "flex": null,
            "flex_flow": null,
            "grid_area": null,
            "grid_auto_columns": null,
            "grid_auto_flow": null,
            "grid_auto_rows": null,
            "grid_column": null,
            "grid_gap": null,
            "grid_row": null,
            "grid_template_areas": null,
            "grid_template_columns": null,
            "grid_template_rows": null,
            "height": null,
            "justify_content": null,
            "justify_items": null,
            "left": null,
            "margin": null,
            "max_height": null,
            "max_width": null,
            "min_height": null,
            "min_width": null,
            "object_fit": null,
            "object_position": null,
            "order": null,
            "overflow": null,
            "overflow_x": null,
            "overflow_y": null,
            "padding": null,
            "right": null,
            "top": null,
            "visibility": null,
            "width": null
          }
        },
        "6fa5da8387d54a428f1e9914fb71fe0e": {
          "model_module": "@jupyter-widgets/controls",
          "model_name": "DescriptionStyleModel",
          "model_module_version": "1.5.0",
          "state": {
            "_model_module": "@jupyter-widgets/controls",
            "_model_module_version": "1.5.0",
            "_model_name": "DescriptionStyleModel",
            "_view_count": null,
            "_view_module": "@jupyter-widgets/base",
            "_view_module_version": "1.2.0",
            "_view_name": "StyleView",
            "description_width": ""
          }
        },
        "fe5c6d49ff2949ccbb56fad65707ef38": {
          "model_module": "@jupyter-widgets/base",
          "model_name": "LayoutModel",
          "model_module_version": "1.2.0",
          "state": {
            "_model_module": "@jupyter-widgets/base",
            "_model_module_version": "1.2.0",
            "_model_name": "LayoutModel",
            "_view_count": null,
            "_view_module": "@jupyter-widgets/base",
            "_view_module_version": "1.2.0",
            "_view_name": "LayoutView",
            "align_content": null,
            "align_items": null,
            "align_self": null,
            "border": null,
            "bottom": null,
            "display": null,
            "flex": null,
            "flex_flow": null,
            "grid_area": null,
            "grid_auto_columns": null,
            "grid_auto_flow": null,
            "grid_auto_rows": null,
            "grid_column": null,
            "grid_gap": null,
            "grid_row": null,
            "grid_template_areas": null,
            "grid_template_columns": null,
            "grid_template_rows": null,
            "height": null,
            "justify_content": null,
            "justify_items": null,
            "left": null,
            "margin": null,
            "max_height": null,
            "max_width": null,
            "min_height": null,
            "min_width": null,
            "object_fit": null,
            "object_position": null,
            "order": null,
            "overflow": null,
            "overflow_x": null,
            "overflow_y": null,
            "padding": null,
            "right": null,
            "top": null,
            "visibility": null,
            "width": null
          }
        },
        "ef7c9f7483cb4f418208499dbcbc1cc6": {
          "model_module": "@jupyter-widgets/controls",
          "model_name": "ProgressStyleModel",
          "model_module_version": "1.5.0",
          "state": {
            "_model_module": "@jupyter-widgets/controls",
            "_model_module_version": "1.5.0",
            "_model_name": "ProgressStyleModel",
            "_view_count": null,
            "_view_module": "@jupyter-widgets/base",
            "_view_module_version": "1.2.0",
            "_view_name": "StyleView",
            "bar_color": null,
            "description_width": ""
          }
        },
        "6b0b0fa75a624dd3b106841bfdc30f35": {
          "model_module": "@jupyter-widgets/base",
          "model_name": "LayoutModel",
          "model_module_version": "1.2.0",
          "state": {
            "_model_module": "@jupyter-widgets/base",
            "_model_module_version": "1.2.0",
            "_model_name": "LayoutModel",
            "_view_count": null,
            "_view_module": "@jupyter-widgets/base",
            "_view_module_version": "1.2.0",
            "_view_name": "LayoutView",
            "align_content": null,
            "align_items": null,
            "align_self": null,
            "border": null,
            "bottom": null,
            "display": null,
            "flex": null,
            "flex_flow": null,
            "grid_area": null,
            "grid_auto_columns": null,
            "grid_auto_flow": null,
            "grid_auto_rows": null,
            "grid_column": null,
            "grid_gap": null,
            "grid_row": null,
            "grid_template_areas": null,
            "grid_template_columns": null,
            "grid_template_rows": null,
            "height": null,
            "justify_content": null,
            "justify_items": null,
            "left": null,
            "margin": null,
            "max_height": null,
            "max_width": null,
            "min_height": null,
            "min_width": null,
            "object_fit": null,
            "object_position": null,
            "order": null,
            "overflow": null,
            "overflow_x": null,
            "overflow_y": null,
            "padding": null,
            "right": null,
            "top": null,
            "visibility": null,
            "width": null
          }
        },
        "6d5d45c7b0614bf3a0cfc1736b4659ee": {
          "model_module": "@jupyter-widgets/controls",
          "model_name": "DescriptionStyleModel",
          "model_module_version": "1.5.0",
          "state": {
            "_model_module": "@jupyter-widgets/controls",
            "_model_module_version": "1.5.0",
            "_model_name": "DescriptionStyleModel",
            "_view_count": null,
            "_view_module": "@jupyter-widgets/base",
            "_view_module_version": "1.2.0",
            "_view_name": "StyleView",
            "description_width": ""
          }
        },
        "a997c57aced9486e916843ec6dd4f7fb": {
          "model_module": "@jupyter-widgets/controls",
          "model_name": "HBoxModel",
          "model_module_version": "1.5.0",
          "state": {
            "_dom_classes": [],
            "_model_module": "@jupyter-widgets/controls",
            "_model_module_version": "1.5.0",
            "_model_name": "HBoxModel",
            "_view_count": null,
            "_view_module": "@jupyter-widgets/controls",
            "_view_module_version": "1.5.0",
            "_view_name": "HBoxView",
            "box_style": "",
            "children": [
              "IPY_MODEL_17fe951820af49ee9fae37d4ec344e9b",
              "IPY_MODEL_296b2ad3f2aa4a03b90a2986a71c7a1d",
              "IPY_MODEL_4629e2f9d8974fdca0f6d6dd3efd2e4f"
            ],
            "layout": "IPY_MODEL_138a3326db2842e2bb67cef267a08111"
          }
        },
        "17fe951820af49ee9fae37d4ec344e9b": {
          "model_module": "@jupyter-widgets/controls",
          "model_name": "HTMLModel",
          "model_module_version": "1.5.0",
          "state": {
            "_dom_classes": [],
            "_model_module": "@jupyter-widgets/controls",
            "_model_module_version": "1.5.0",
            "_model_name": "HTMLModel",
            "_view_count": null,
            "_view_module": "@jupyter-widgets/controls",
            "_view_module_version": "1.5.0",
            "_view_name": "HTMLView",
            "description": "",
            "description_tooltip": null,
            "layout": "IPY_MODEL_5f84653a5cb341ab93495f5fe5de264e",
            "placeholder": "​",
            "style": "IPY_MODEL_e71b5ea60e5a4c898ef690ad6e572687",
            "value": "merges.txt: 100%"
          }
        },
        "296b2ad3f2aa4a03b90a2986a71c7a1d": {
          "model_module": "@jupyter-widgets/controls",
          "model_name": "FloatProgressModel",
          "model_module_version": "1.5.0",
          "state": {
            "_dom_classes": [],
            "_model_module": "@jupyter-widgets/controls",
            "_model_module_version": "1.5.0",
            "_model_name": "FloatProgressModel",
            "_view_count": null,
            "_view_module": "@jupyter-widgets/controls",
            "_view_module_version": "1.5.0",
            "_view_name": "ProgressView",
            "bar_style": "success",
            "description": "",
            "description_tooltip": null,
            "layout": "IPY_MODEL_53a99d9ed482480fb916c0998687191f",
            "max": 456318,
            "min": 0,
            "orientation": "horizontal",
            "style": "IPY_MODEL_14cc442052e74d9c8f98793a69511e11",
            "value": 456318
          }
        },
        "4629e2f9d8974fdca0f6d6dd3efd2e4f": {
          "model_module": "@jupyter-widgets/controls",
          "model_name": "HTMLModel",
          "model_module_version": "1.5.0",
          "state": {
            "_dom_classes": [],
            "_model_module": "@jupyter-widgets/controls",
            "_model_module_version": "1.5.0",
            "_model_name": "HTMLModel",
            "_view_count": null,
            "_view_module": "@jupyter-widgets/controls",
            "_view_module_version": "1.5.0",
            "_view_name": "HTMLView",
            "description": "",
            "description_tooltip": null,
            "layout": "IPY_MODEL_3ad7a891ebd648548fda3d47ab28f84d",
            "placeholder": "​",
            "style": "IPY_MODEL_be7eae48fb3247a99d5c4d20aee5d8d4",
            "value": " 456k/456k [00:00&lt;00:00, 1.29MB/s]"
          }
        },
        "138a3326db2842e2bb67cef267a08111": {
          "model_module": "@jupyter-widgets/base",
          "model_name": "LayoutModel",
          "model_module_version": "1.2.0",
          "state": {
            "_model_module": "@jupyter-widgets/base",
            "_model_module_version": "1.2.0",
            "_model_name": "LayoutModel",
            "_view_count": null,
            "_view_module": "@jupyter-widgets/base",
            "_view_module_version": "1.2.0",
            "_view_name": "LayoutView",
            "align_content": null,
            "align_items": null,
            "align_self": null,
            "border": null,
            "bottom": null,
            "display": null,
            "flex": null,
            "flex_flow": null,
            "grid_area": null,
            "grid_auto_columns": null,
            "grid_auto_flow": null,
            "grid_auto_rows": null,
            "grid_column": null,
            "grid_gap": null,
            "grid_row": null,
            "grid_template_areas": null,
            "grid_template_columns": null,
            "grid_template_rows": null,
            "height": null,
            "justify_content": null,
            "justify_items": null,
            "left": null,
            "margin": null,
            "max_height": null,
            "max_width": null,
            "min_height": null,
            "min_width": null,
            "object_fit": null,
            "object_position": null,
            "order": null,
            "overflow": null,
            "overflow_x": null,
            "overflow_y": null,
            "padding": null,
            "right": null,
            "top": null,
            "visibility": null,
            "width": null
          }
        },
        "5f84653a5cb341ab93495f5fe5de264e": {
          "model_module": "@jupyter-widgets/base",
          "model_name": "LayoutModel",
          "model_module_version": "1.2.0",
          "state": {
            "_model_module": "@jupyter-widgets/base",
            "_model_module_version": "1.2.0",
            "_model_name": "LayoutModel",
            "_view_count": null,
            "_view_module": "@jupyter-widgets/base",
            "_view_module_version": "1.2.0",
            "_view_name": "LayoutView",
            "align_content": null,
            "align_items": null,
            "align_self": null,
            "border": null,
            "bottom": null,
            "display": null,
            "flex": null,
            "flex_flow": null,
            "grid_area": null,
            "grid_auto_columns": null,
            "grid_auto_flow": null,
            "grid_auto_rows": null,
            "grid_column": null,
            "grid_gap": null,
            "grid_row": null,
            "grid_template_areas": null,
            "grid_template_columns": null,
            "grid_template_rows": null,
            "height": null,
            "justify_content": null,
            "justify_items": null,
            "left": null,
            "margin": null,
            "max_height": null,
            "max_width": null,
            "min_height": null,
            "min_width": null,
            "object_fit": null,
            "object_position": null,
            "order": null,
            "overflow": null,
            "overflow_x": null,
            "overflow_y": null,
            "padding": null,
            "right": null,
            "top": null,
            "visibility": null,
            "width": null
          }
        },
        "e71b5ea60e5a4c898ef690ad6e572687": {
          "model_module": "@jupyter-widgets/controls",
          "model_name": "DescriptionStyleModel",
          "model_module_version": "1.5.0",
          "state": {
            "_model_module": "@jupyter-widgets/controls",
            "_model_module_version": "1.5.0",
            "_model_name": "DescriptionStyleModel",
            "_view_count": null,
            "_view_module": "@jupyter-widgets/base",
            "_view_module_version": "1.2.0",
            "_view_name": "StyleView",
            "description_width": ""
          }
        },
        "53a99d9ed482480fb916c0998687191f": {
          "model_module": "@jupyter-widgets/base",
          "model_name": "LayoutModel",
          "model_module_version": "1.2.0",
          "state": {
            "_model_module": "@jupyter-widgets/base",
            "_model_module_version": "1.2.0",
            "_model_name": "LayoutModel",
            "_view_count": null,
            "_view_module": "@jupyter-widgets/base",
            "_view_module_version": "1.2.0",
            "_view_name": "LayoutView",
            "align_content": null,
            "align_items": null,
            "align_self": null,
            "border": null,
            "bottom": null,
            "display": null,
            "flex": null,
            "flex_flow": null,
            "grid_area": null,
            "grid_auto_columns": null,
            "grid_auto_flow": null,
            "grid_auto_rows": null,
            "grid_column": null,
            "grid_gap": null,
            "grid_row": null,
            "grid_template_areas": null,
            "grid_template_columns": null,
            "grid_template_rows": null,
            "height": null,
            "justify_content": null,
            "justify_items": null,
            "left": null,
            "margin": null,
            "max_height": null,
            "max_width": null,
            "min_height": null,
            "min_width": null,
            "object_fit": null,
            "object_position": null,
            "order": null,
            "overflow": null,
            "overflow_x": null,
            "overflow_y": null,
            "padding": null,
            "right": null,
            "top": null,
            "visibility": null,
            "width": null
          }
        },
        "14cc442052e74d9c8f98793a69511e11": {
          "model_module": "@jupyter-widgets/controls",
          "model_name": "ProgressStyleModel",
          "model_module_version": "1.5.0",
          "state": {
            "_model_module": "@jupyter-widgets/controls",
            "_model_module_version": "1.5.0",
            "_model_name": "ProgressStyleModel",
            "_view_count": null,
            "_view_module": "@jupyter-widgets/base",
            "_view_module_version": "1.2.0",
            "_view_name": "StyleView",
            "bar_color": null,
            "description_width": ""
          }
        },
        "3ad7a891ebd648548fda3d47ab28f84d": {
          "model_module": "@jupyter-widgets/base",
          "model_name": "LayoutModel",
          "model_module_version": "1.2.0",
          "state": {
            "_model_module": "@jupyter-widgets/base",
            "_model_module_version": "1.2.0",
            "_model_name": "LayoutModel",
            "_view_count": null,
            "_view_module": "@jupyter-widgets/base",
            "_view_module_version": "1.2.0",
            "_view_name": "LayoutView",
            "align_content": null,
            "align_items": null,
            "align_self": null,
            "border": null,
            "bottom": null,
            "display": null,
            "flex": null,
            "flex_flow": null,
            "grid_area": null,
            "grid_auto_columns": null,
            "grid_auto_flow": null,
            "grid_auto_rows": null,
            "grid_column": null,
            "grid_gap": null,
            "grid_row": null,
            "grid_template_areas": null,
            "grid_template_columns": null,
            "grid_template_rows": null,
            "height": null,
            "justify_content": null,
            "justify_items": null,
            "left": null,
            "margin": null,
            "max_height": null,
            "max_width": null,
            "min_height": null,
            "min_width": null,
            "object_fit": null,
            "object_position": null,
            "order": null,
            "overflow": null,
            "overflow_x": null,
            "overflow_y": null,
            "padding": null,
            "right": null,
            "top": null,
            "visibility": null,
            "width": null
          }
        },
        "be7eae48fb3247a99d5c4d20aee5d8d4": {
          "model_module": "@jupyter-widgets/controls",
          "model_name": "DescriptionStyleModel",
          "model_module_version": "1.5.0",
          "state": {
            "_model_module": "@jupyter-widgets/controls",
            "_model_module_version": "1.5.0",
            "_model_name": "DescriptionStyleModel",
            "_view_count": null,
            "_view_module": "@jupyter-widgets/base",
            "_view_module_version": "1.2.0",
            "_view_name": "StyleView",
            "description_width": ""
          }
        },
        "884c09f548f44e8489f1609aa2144904": {
          "model_module": "@jupyter-widgets/controls",
          "model_name": "HBoxModel",
          "model_module_version": "1.5.0",
          "state": {
            "_dom_classes": [],
            "_model_module": "@jupyter-widgets/controls",
            "_model_module_version": "1.5.0",
            "_model_name": "HBoxModel",
            "_view_count": null,
            "_view_module": "@jupyter-widgets/controls",
            "_view_module_version": "1.5.0",
            "_view_name": "HBoxView",
            "box_style": "",
            "children": [
              "IPY_MODEL_fe6eb985a25b42928276d15ca31e6e60",
              "IPY_MODEL_c24c8b6f288b4c6482f41a935bc1850e",
              "IPY_MODEL_a05fb0f517f04259b65670ddc6a14567"
            ],
            "layout": "IPY_MODEL_985b7d7621624cacb395d9a8b83e40b1"
          }
        },
        "fe6eb985a25b42928276d15ca31e6e60": {
          "model_module": "@jupyter-widgets/controls",
          "model_name": "HTMLModel",
          "model_module_version": "1.5.0",
          "state": {
            "_dom_classes": [],
            "_model_module": "@jupyter-widgets/controls",
            "_model_module_version": "1.5.0",
            "_model_name": "HTMLModel",
            "_view_count": null,
            "_view_module": "@jupyter-widgets/controls",
            "_view_module_version": "1.5.0",
            "_view_name": "HTMLView",
            "description": "",
            "description_tooltip": null,
            "layout": "IPY_MODEL_9279ba6d816c47de9c50cea80f89e051",
            "placeholder": "​",
            "style": "IPY_MODEL_368d793df5f249828520aea81904afd8",
            "value": "tokenizer.json: 100%"
          }
        },
        "c24c8b6f288b4c6482f41a935bc1850e": {
          "model_module": "@jupyter-widgets/controls",
          "model_name": "FloatProgressModel",
          "model_module_version": "1.5.0",
          "state": {
            "_dom_classes": [],
            "_model_module": "@jupyter-widgets/controls",
            "_model_module_version": "1.5.0",
            "_model_name": "FloatProgressModel",
            "_view_count": null,
            "_view_module": "@jupyter-widgets/controls",
            "_view_module_version": "1.5.0",
            "_view_name": "ProgressView",
            "bar_style": "success",
            "description": "",
            "description_tooltip": null,
            "layout": "IPY_MODEL_e35683496f064df49fcc3e5b21280a6a",
            "max": 1355256,
            "min": 0,
            "orientation": "horizontal",
            "style": "IPY_MODEL_7e0afc14d7694a8995983e8a037f973c",
            "value": 1355256
          }
        },
        "a05fb0f517f04259b65670ddc6a14567": {
          "model_module": "@jupyter-widgets/controls",
          "model_name": "HTMLModel",
          "model_module_version": "1.5.0",
          "state": {
            "_dom_classes": [],
            "_model_module": "@jupyter-widgets/controls",
            "_model_module_version": "1.5.0",
            "_model_name": "HTMLModel",
            "_view_count": null,
            "_view_module": "@jupyter-widgets/controls",
            "_view_module_version": "1.5.0",
            "_view_name": "HTMLView",
            "description": "",
            "description_tooltip": null,
            "layout": "IPY_MODEL_00ef0a20bd1744df83c0b16cfe92524d",
            "placeholder": "​",
            "style": "IPY_MODEL_13d7cb20cc4a4c9ea50c40ef0f9fd083",
            "value": " 1.36M/1.36M [00:00&lt;00:00, 7.21MB/s]"
          }
        },
        "985b7d7621624cacb395d9a8b83e40b1": {
          "model_module": "@jupyter-widgets/base",
          "model_name": "LayoutModel",
          "model_module_version": "1.2.0",
          "state": {
            "_model_module": "@jupyter-widgets/base",
            "_model_module_version": "1.2.0",
            "_model_name": "LayoutModel",
            "_view_count": null,
            "_view_module": "@jupyter-widgets/base",
            "_view_module_version": "1.2.0",
            "_view_name": "LayoutView",
            "align_content": null,
            "align_items": null,
            "align_self": null,
            "border": null,
            "bottom": null,
            "display": null,
            "flex": null,
            "flex_flow": null,
            "grid_area": null,
            "grid_auto_columns": null,
            "grid_auto_flow": null,
            "grid_auto_rows": null,
            "grid_column": null,
            "grid_gap": null,
            "grid_row": null,
            "grid_template_areas": null,
            "grid_template_columns": null,
            "grid_template_rows": null,
            "height": null,
            "justify_content": null,
            "justify_items": null,
            "left": null,
            "margin": null,
            "max_height": null,
            "max_width": null,
            "min_height": null,
            "min_width": null,
            "object_fit": null,
            "object_position": null,
            "order": null,
            "overflow": null,
            "overflow_x": null,
            "overflow_y": null,
            "padding": null,
            "right": null,
            "top": null,
            "visibility": null,
            "width": null
          }
        },
        "9279ba6d816c47de9c50cea80f89e051": {
          "model_module": "@jupyter-widgets/base",
          "model_name": "LayoutModel",
          "model_module_version": "1.2.0",
          "state": {
            "_model_module": "@jupyter-widgets/base",
            "_model_module_version": "1.2.0",
            "_model_name": "LayoutModel",
            "_view_count": null,
            "_view_module": "@jupyter-widgets/base",
            "_view_module_version": "1.2.0",
            "_view_name": "LayoutView",
            "align_content": null,
            "align_items": null,
            "align_self": null,
            "border": null,
            "bottom": null,
            "display": null,
            "flex": null,
            "flex_flow": null,
            "grid_area": null,
            "grid_auto_columns": null,
            "grid_auto_flow": null,
            "grid_auto_rows": null,
            "grid_column": null,
            "grid_gap": null,
            "grid_row": null,
            "grid_template_areas": null,
            "grid_template_columns": null,
            "grid_template_rows": null,
            "height": null,
            "justify_content": null,
            "justify_items": null,
            "left": null,
            "margin": null,
            "max_height": null,
            "max_width": null,
            "min_height": null,
            "min_width": null,
            "object_fit": null,
            "object_position": null,
            "order": null,
            "overflow": null,
            "overflow_x": null,
            "overflow_y": null,
            "padding": null,
            "right": null,
            "top": null,
            "visibility": null,
            "width": null
          }
        },
        "368d793df5f249828520aea81904afd8": {
          "model_module": "@jupyter-widgets/controls",
          "model_name": "DescriptionStyleModel",
          "model_module_version": "1.5.0",
          "state": {
            "_model_module": "@jupyter-widgets/controls",
            "_model_module_version": "1.5.0",
            "_model_name": "DescriptionStyleModel",
            "_view_count": null,
            "_view_module": "@jupyter-widgets/base",
            "_view_module_version": "1.2.0",
            "_view_name": "StyleView",
            "description_width": ""
          }
        },
        "e35683496f064df49fcc3e5b21280a6a": {
          "model_module": "@jupyter-widgets/base",
          "model_name": "LayoutModel",
          "model_module_version": "1.2.0",
          "state": {
            "_model_module": "@jupyter-widgets/base",
            "_model_module_version": "1.2.0",
            "_model_name": "LayoutModel",
            "_view_count": null,
            "_view_module": "@jupyter-widgets/base",
            "_view_module_version": "1.2.0",
            "_view_name": "LayoutView",
            "align_content": null,
            "align_items": null,
            "align_self": null,
            "border": null,
            "bottom": null,
            "display": null,
            "flex": null,
            "flex_flow": null,
            "grid_area": null,
            "grid_auto_columns": null,
            "grid_auto_flow": null,
            "grid_auto_rows": null,
            "grid_column": null,
            "grid_gap": null,
            "grid_row": null,
            "grid_template_areas": null,
            "grid_template_columns": null,
            "grid_template_rows": null,
            "height": null,
            "justify_content": null,
            "justify_items": null,
            "left": null,
            "margin": null,
            "max_height": null,
            "max_width": null,
            "min_height": null,
            "min_width": null,
            "object_fit": null,
            "object_position": null,
            "order": null,
            "overflow": null,
            "overflow_x": null,
            "overflow_y": null,
            "padding": null,
            "right": null,
            "top": null,
            "visibility": null,
            "width": null
          }
        },
        "7e0afc14d7694a8995983e8a037f973c": {
          "model_module": "@jupyter-widgets/controls",
          "model_name": "ProgressStyleModel",
          "model_module_version": "1.5.0",
          "state": {
            "_model_module": "@jupyter-widgets/controls",
            "_model_module_version": "1.5.0",
            "_model_name": "ProgressStyleModel",
            "_view_count": null,
            "_view_module": "@jupyter-widgets/base",
            "_view_module_version": "1.2.0",
            "_view_name": "StyleView",
            "bar_color": null,
            "description_width": ""
          }
        },
        "00ef0a20bd1744df83c0b16cfe92524d": {
          "model_module": "@jupyter-widgets/base",
          "model_name": "LayoutModel",
          "model_module_version": "1.2.0",
          "state": {
            "_model_module": "@jupyter-widgets/base",
            "_model_module_version": "1.2.0",
            "_model_name": "LayoutModel",
            "_view_count": null,
            "_view_module": "@jupyter-widgets/base",
            "_view_module_version": "1.2.0",
            "_view_name": "LayoutView",
            "align_content": null,
            "align_items": null,
            "align_self": null,
            "border": null,
            "bottom": null,
            "display": null,
            "flex": null,
            "flex_flow": null,
            "grid_area": null,
            "grid_auto_columns": null,
            "grid_auto_flow": null,
            "grid_auto_rows": null,
            "grid_column": null,
            "grid_gap": null,
            "grid_row": null,
            "grid_template_areas": null,
            "grid_template_columns": null,
            "grid_template_rows": null,
            "height": null,
            "justify_content": null,
            "justify_items": null,
            "left": null,
            "margin": null,
            "max_height": null,
            "max_width": null,
            "min_height": null,
            "min_width": null,
            "object_fit": null,
            "object_position": null,
            "order": null,
            "overflow": null,
            "overflow_x": null,
            "overflow_y": null,
            "padding": null,
            "right": null,
            "top": null,
            "visibility": null,
            "width": null
          }
        },
        "13d7cb20cc4a4c9ea50c40ef0f9fd083": {
          "model_module": "@jupyter-widgets/controls",
          "model_name": "DescriptionStyleModel",
          "model_module_version": "1.5.0",
          "state": {
            "_model_module": "@jupyter-widgets/controls",
            "_model_module_version": "1.5.0",
            "_model_name": "DescriptionStyleModel",
            "_view_count": null,
            "_view_module": "@jupyter-widgets/base",
            "_view_module_version": "1.2.0",
            "_view_name": "StyleView",
            "description_width": ""
          }
        },
        "008a7703c2d54f3fa312059baf744608": {
          "model_module": "@jupyter-widgets/controls",
          "model_name": "HBoxModel",
          "model_module_version": "1.5.0",
          "state": {
            "_dom_classes": [],
            "_model_module": "@jupyter-widgets/controls",
            "_model_module_version": "1.5.0",
            "_model_name": "HBoxModel",
            "_view_count": null,
            "_view_module": "@jupyter-widgets/controls",
            "_view_module_version": "1.5.0",
            "_view_name": "HBoxView",
            "box_style": "",
            "children": [
              "IPY_MODEL_4d5047850b514f25a0f678944512d55b",
              "IPY_MODEL_ba84bcff28194251bc7427d647dab716",
              "IPY_MODEL_ef80d6bcb20041638910be0b1c6f481a"
            ],
            "layout": "IPY_MODEL_1edff25f41a84e5b8490aa32d252da46"
          }
        },
        "4d5047850b514f25a0f678944512d55b": {
          "model_module": "@jupyter-widgets/controls",
          "model_name": "HTMLModel",
          "model_module_version": "1.5.0",
          "state": {
            "_dom_classes": [],
            "_model_module": "@jupyter-widgets/controls",
            "_model_module_version": "1.5.0",
            "_model_name": "HTMLModel",
            "_view_count": null,
            "_view_module": "@jupyter-widgets/controls",
            "_view_module_version": "1.5.0",
            "_view_name": "HTMLView",
            "description": "",
            "description_tooltip": null,
            "layout": "IPY_MODEL_d6bf0f4ff275432ab8c4d15d74d6854b",
            "placeholder": "​",
            "style": "IPY_MODEL_d43c41c740be455fa5a98b8335b8b9c7",
            "value": "config.json: 100%"
          }
        },
        "ba84bcff28194251bc7427d647dab716": {
          "model_module": "@jupyter-widgets/controls",
          "model_name": "FloatProgressModel",
          "model_module_version": "1.5.0",
          "state": {
            "_dom_classes": [],
            "_model_module": "@jupyter-widgets/controls",
            "_model_module_version": "1.5.0",
            "_model_name": "FloatProgressModel",
            "_view_count": null,
            "_view_module": "@jupyter-widgets/controls",
            "_view_module_version": "1.5.0",
            "_view_name": "ProgressView",
            "bar_style": "success",
            "description": "",
            "description_tooltip": null,
            "layout": "IPY_MODEL_988c92ba1e6246dbb143551d18ddc712",
            "max": 665,
            "min": 0,
            "orientation": "horizontal",
            "style": "IPY_MODEL_cb9507823b794e40b9bbb909c85028ed",
            "value": 665
          }
        },
        "ef80d6bcb20041638910be0b1c6f481a": {
          "model_module": "@jupyter-widgets/controls",
          "model_name": "HTMLModel",
          "model_module_version": "1.5.0",
          "state": {
            "_dom_classes": [],
            "_model_module": "@jupyter-widgets/controls",
            "_model_module_version": "1.5.0",
            "_model_name": "HTMLModel",
            "_view_count": null,
            "_view_module": "@jupyter-widgets/controls",
            "_view_module_version": "1.5.0",
            "_view_name": "HTMLView",
            "description": "",
            "description_tooltip": null,
            "layout": "IPY_MODEL_03370710441641bbaacb991dbc95b17e",
            "placeholder": "​",
            "style": "IPY_MODEL_f778b56f9c3a4f4eb9230c0d1e294611",
            "value": " 665/665 [00:00&lt;00:00, 95.2kB/s]"
          }
        },
        "1edff25f41a84e5b8490aa32d252da46": {
          "model_module": "@jupyter-widgets/base",
          "model_name": "LayoutModel",
          "model_module_version": "1.2.0",
          "state": {
            "_model_module": "@jupyter-widgets/base",
            "_model_module_version": "1.2.0",
            "_model_name": "LayoutModel",
            "_view_count": null,
            "_view_module": "@jupyter-widgets/base",
            "_view_module_version": "1.2.0",
            "_view_name": "LayoutView",
            "align_content": null,
            "align_items": null,
            "align_self": null,
            "border": null,
            "bottom": null,
            "display": null,
            "flex": null,
            "flex_flow": null,
            "grid_area": null,
            "grid_auto_columns": null,
            "grid_auto_flow": null,
            "grid_auto_rows": null,
            "grid_column": null,
            "grid_gap": null,
            "grid_row": null,
            "grid_template_areas": null,
            "grid_template_columns": null,
            "grid_template_rows": null,
            "height": null,
            "justify_content": null,
            "justify_items": null,
            "left": null,
            "margin": null,
            "max_height": null,
            "max_width": null,
            "min_height": null,
            "min_width": null,
            "object_fit": null,
            "object_position": null,
            "order": null,
            "overflow": null,
            "overflow_x": null,
            "overflow_y": null,
            "padding": null,
            "right": null,
            "top": null,
            "visibility": null,
            "width": null
          }
        },
        "d6bf0f4ff275432ab8c4d15d74d6854b": {
          "model_module": "@jupyter-widgets/base",
          "model_name": "LayoutModel",
          "model_module_version": "1.2.0",
          "state": {
            "_model_module": "@jupyter-widgets/base",
            "_model_module_version": "1.2.0",
            "_model_name": "LayoutModel",
            "_view_count": null,
            "_view_module": "@jupyter-widgets/base",
            "_view_module_version": "1.2.0",
            "_view_name": "LayoutView",
            "align_content": null,
            "align_items": null,
            "align_self": null,
            "border": null,
            "bottom": null,
            "display": null,
            "flex": null,
            "flex_flow": null,
            "grid_area": null,
            "grid_auto_columns": null,
            "grid_auto_flow": null,
            "grid_auto_rows": null,
            "grid_column": null,
            "grid_gap": null,
            "grid_row": null,
            "grid_template_areas": null,
            "grid_template_columns": null,
            "grid_template_rows": null,
            "height": null,
            "justify_content": null,
            "justify_items": null,
            "left": null,
            "margin": null,
            "max_height": null,
            "max_width": null,
            "min_height": null,
            "min_width": null,
            "object_fit": null,
            "object_position": null,
            "order": null,
            "overflow": null,
            "overflow_x": null,
            "overflow_y": null,
            "padding": null,
            "right": null,
            "top": null,
            "visibility": null,
            "width": null
          }
        },
        "d43c41c740be455fa5a98b8335b8b9c7": {
          "model_module": "@jupyter-widgets/controls",
          "model_name": "DescriptionStyleModel",
          "model_module_version": "1.5.0",
          "state": {
            "_model_module": "@jupyter-widgets/controls",
            "_model_module_version": "1.5.0",
            "_model_name": "DescriptionStyleModel",
            "_view_count": null,
            "_view_module": "@jupyter-widgets/base",
            "_view_module_version": "1.2.0",
            "_view_name": "StyleView",
            "description_width": ""
          }
        },
        "988c92ba1e6246dbb143551d18ddc712": {
          "model_module": "@jupyter-widgets/base",
          "model_name": "LayoutModel",
          "model_module_version": "1.2.0",
          "state": {
            "_model_module": "@jupyter-widgets/base",
            "_model_module_version": "1.2.0",
            "_model_name": "LayoutModel",
            "_view_count": null,
            "_view_module": "@jupyter-widgets/base",
            "_view_module_version": "1.2.0",
            "_view_name": "LayoutView",
            "align_content": null,
            "align_items": null,
            "align_self": null,
            "border": null,
            "bottom": null,
            "display": null,
            "flex": null,
            "flex_flow": null,
            "grid_area": null,
            "grid_auto_columns": null,
            "grid_auto_flow": null,
            "grid_auto_rows": null,
            "grid_column": null,
            "grid_gap": null,
            "grid_row": null,
            "grid_template_areas": null,
            "grid_template_columns": null,
            "grid_template_rows": null,
            "height": null,
            "justify_content": null,
            "justify_items": null,
            "left": null,
            "margin": null,
            "max_height": null,
            "max_width": null,
            "min_height": null,
            "min_width": null,
            "object_fit": null,
            "object_position": null,
            "order": null,
            "overflow": null,
            "overflow_x": null,
            "overflow_y": null,
            "padding": null,
            "right": null,
            "top": null,
            "visibility": null,
            "width": null
          }
        },
        "cb9507823b794e40b9bbb909c85028ed": {
          "model_module": "@jupyter-widgets/controls",
          "model_name": "ProgressStyleModel",
          "model_module_version": "1.5.0",
          "state": {
            "_model_module": "@jupyter-widgets/controls",
            "_model_module_version": "1.5.0",
            "_model_name": "ProgressStyleModel",
            "_view_count": null,
            "_view_module": "@jupyter-widgets/base",
            "_view_module_version": "1.2.0",
            "_view_name": "StyleView",
            "bar_color": null,
            "description_width": ""
          }
        },
        "03370710441641bbaacb991dbc95b17e": {
          "model_module": "@jupyter-widgets/base",
          "model_name": "LayoutModel",
          "model_module_version": "1.2.0",
          "state": {
            "_model_module": "@jupyter-widgets/base",
            "_model_module_version": "1.2.0",
            "_model_name": "LayoutModel",
            "_view_count": null,
            "_view_module": "@jupyter-widgets/base",
            "_view_module_version": "1.2.0",
            "_view_name": "LayoutView",
            "align_content": null,
            "align_items": null,
            "align_self": null,
            "border": null,
            "bottom": null,
            "display": null,
            "flex": null,
            "flex_flow": null,
            "grid_area": null,
            "grid_auto_columns": null,
            "grid_auto_flow": null,
            "grid_auto_rows": null,
            "grid_column": null,
            "grid_gap": null,
            "grid_row": null,
            "grid_template_areas": null,
            "grid_template_columns": null,
            "grid_template_rows": null,
            "height": null,
            "justify_content": null,
            "justify_items": null,
            "left": null,
            "margin": null,
            "max_height": null,
            "max_width": null,
            "min_height": null,
            "min_width": null,
            "object_fit": null,
            "object_position": null,
            "order": null,
            "overflow": null,
            "overflow_x": null,
            "overflow_y": null,
            "padding": null,
            "right": null,
            "top": null,
            "visibility": null,
            "width": null
          }
        },
        "f778b56f9c3a4f4eb9230c0d1e294611": {
          "model_module": "@jupyter-widgets/controls",
          "model_name": "DescriptionStyleModel",
          "model_module_version": "1.5.0",
          "state": {
            "_model_module": "@jupyter-widgets/controls",
            "_model_module_version": "1.5.0",
            "_model_name": "DescriptionStyleModel",
            "_view_count": null,
            "_view_module": "@jupyter-widgets/base",
            "_view_module_version": "1.2.0",
            "_view_name": "StyleView",
            "description_width": ""
          }
        },
        "a14d4a4783bc4f1e9494e1d9c637b80a": {
          "model_module": "@jupyter-widgets/controls",
          "model_name": "HBoxModel",
          "model_module_version": "1.5.0",
          "state": {
            "_dom_classes": [],
            "_model_module": "@jupyter-widgets/controls",
            "_model_module_version": "1.5.0",
            "_model_name": "HBoxModel",
            "_view_count": null,
            "_view_module": "@jupyter-widgets/controls",
            "_view_module_version": "1.5.0",
            "_view_name": "HBoxView",
            "box_style": "",
            "children": [
              "IPY_MODEL_d98f238353384bd39d9fd24df0f7b8e1",
              "IPY_MODEL_84de887925dc44c69c0d719be0a08d9c",
              "IPY_MODEL_3f2e8e40a56f42abb82640b5d8859512"
            ],
            "layout": "IPY_MODEL_bebd7140bd834ea9accb5dd275b64362"
          }
        },
        "d98f238353384bd39d9fd24df0f7b8e1": {
          "model_module": "@jupyter-widgets/controls",
          "model_name": "HTMLModel",
          "model_module_version": "1.5.0",
          "state": {
            "_dom_classes": [],
            "_model_module": "@jupyter-widgets/controls",
            "_model_module_version": "1.5.0",
            "_model_name": "HTMLModel",
            "_view_count": null,
            "_view_module": "@jupyter-widgets/controls",
            "_view_module_version": "1.5.0",
            "_view_name": "HTMLView",
            "description": "",
            "description_tooltip": null,
            "layout": "IPY_MODEL_f21f9b9a546847dda97b23879606761b",
            "placeholder": "​",
            "style": "IPY_MODEL_3fa1b002047a47f989b4b5bd3c559618",
            "value": "model.safetensors: 100%"
          }
        },
        "84de887925dc44c69c0d719be0a08d9c": {
          "model_module": "@jupyter-widgets/controls",
          "model_name": "FloatProgressModel",
          "model_module_version": "1.5.0",
          "state": {
            "_dom_classes": [],
            "_model_module": "@jupyter-widgets/controls",
            "_model_module_version": "1.5.0",
            "_model_name": "FloatProgressModel",
            "_view_count": null,
            "_view_module": "@jupyter-widgets/controls",
            "_view_module_version": "1.5.0",
            "_view_name": "ProgressView",
            "bar_style": "success",
            "description": "",
            "description_tooltip": null,
            "layout": "IPY_MODEL_19ce799f2c5441e99fb93bd8a1c0135c",
            "max": 548105171,
            "min": 0,
            "orientation": "horizontal",
            "style": "IPY_MODEL_895073dbce4c482b80aea07d6b1d28fd",
            "value": 548105171
          }
        },
        "3f2e8e40a56f42abb82640b5d8859512": {
          "model_module": "@jupyter-widgets/controls",
          "model_name": "HTMLModel",
          "model_module_version": "1.5.0",
          "state": {
            "_dom_classes": [],
            "_model_module": "@jupyter-widgets/controls",
            "_model_module_version": "1.5.0",
            "_model_name": "HTMLModel",
            "_view_count": null,
            "_view_module": "@jupyter-widgets/controls",
            "_view_module_version": "1.5.0",
            "_view_name": "HTMLView",
            "description": "",
            "description_tooltip": null,
            "layout": "IPY_MODEL_1ece9f81ae3f499ba19f10256c643266",
            "placeholder": "​",
            "style": "IPY_MODEL_d017f12bf6484b4683ce7b994c66f19e",
            "value": " 548M/548M [00:05&lt;00:00, 418MB/s]"
          }
        },
        "bebd7140bd834ea9accb5dd275b64362": {
          "model_module": "@jupyter-widgets/base",
          "model_name": "LayoutModel",
          "model_module_version": "1.2.0",
          "state": {
            "_model_module": "@jupyter-widgets/base",
            "_model_module_version": "1.2.0",
            "_model_name": "LayoutModel",
            "_view_count": null,
            "_view_module": "@jupyter-widgets/base",
            "_view_module_version": "1.2.0",
            "_view_name": "LayoutView",
            "align_content": null,
            "align_items": null,
            "align_self": null,
            "border": null,
            "bottom": null,
            "display": null,
            "flex": null,
            "flex_flow": null,
            "grid_area": null,
            "grid_auto_columns": null,
            "grid_auto_flow": null,
            "grid_auto_rows": null,
            "grid_column": null,
            "grid_gap": null,
            "grid_row": null,
            "grid_template_areas": null,
            "grid_template_columns": null,
            "grid_template_rows": null,
            "height": null,
            "justify_content": null,
            "justify_items": null,
            "left": null,
            "margin": null,
            "max_height": null,
            "max_width": null,
            "min_height": null,
            "min_width": null,
            "object_fit": null,
            "object_position": null,
            "order": null,
            "overflow": null,
            "overflow_x": null,
            "overflow_y": null,
            "padding": null,
            "right": null,
            "top": null,
            "visibility": null,
            "width": null
          }
        },
        "f21f9b9a546847dda97b23879606761b": {
          "model_module": "@jupyter-widgets/base",
          "model_name": "LayoutModel",
          "model_module_version": "1.2.0",
          "state": {
            "_model_module": "@jupyter-widgets/base",
            "_model_module_version": "1.2.0",
            "_model_name": "LayoutModel",
            "_view_count": null,
            "_view_module": "@jupyter-widgets/base",
            "_view_module_version": "1.2.0",
            "_view_name": "LayoutView",
            "align_content": null,
            "align_items": null,
            "align_self": null,
            "border": null,
            "bottom": null,
            "display": null,
            "flex": null,
            "flex_flow": null,
            "grid_area": null,
            "grid_auto_columns": null,
            "grid_auto_flow": null,
            "grid_auto_rows": null,
            "grid_column": null,
            "grid_gap": null,
            "grid_row": null,
            "grid_template_areas": null,
            "grid_template_columns": null,
            "grid_template_rows": null,
            "height": null,
            "justify_content": null,
            "justify_items": null,
            "left": null,
            "margin": null,
            "max_height": null,
            "max_width": null,
            "min_height": null,
            "min_width": null,
            "object_fit": null,
            "object_position": null,
            "order": null,
            "overflow": null,
            "overflow_x": null,
            "overflow_y": null,
            "padding": null,
            "right": null,
            "top": null,
            "visibility": null,
            "width": null
          }
        },
        "3fa1b002047a47f989b4b5bd3c559618": {
          "model_module": "@jupyter-widgets/controls",
          "model_name": "DescriptionStyleModel",
          "model_module_version": "1.5.0",
          "state": {
            "_model_module": "@jupyter-widgets/controls",
            "_model_module_version": "1.5.0",
            "_model_name": "DescriptionStyleModel",
            "_view_count": null,
            "_view_module": "@jupyter-widgets/base",
            "_view_module_version": "1.2.0",
            "_view_name": "StyleView",
            "description_width": ""
          }
        },
        "19ce799f2c5441e99fb93bd8a1c0135c": {
          "model_module": "@jupyter-widgets/base",
          "model_name": "LayoutModel",
          "model_module_version": "1.2.0",
          "state": {
            "_model_module": "@jupyter-widgets/base",
            "_model_module_version": "1.2.0",
            "_model_name": "LayoutModel",
            "_view_count": null,
            "_view_module": "@jupyter-widgets/base",
            "_view_module_version": "1.2.0",
            "_view_name": "LayoutView",
            "align_content": null,
            "align_items": null,
            "align_self": null,
            "border": null,
            "bottom": null,
            "display": null,
            "flex": null,
            "flex_flow": null,
            "grid_area": null,
            "grid_auto_columns": null,
            "grid_auto_flow": null,
            "grid_auto_rows": null,
            "grid_column": null,
            "grid_gap": null,
            "grid_row": null,
            "grid_template_areas": null,
            "grid_template_columns": null,
            "grid_template_rows": null,
            "height": null,
            "justify_content": null,
            "justify_items": null,
            "left": null,
            "margin": null,
            "max_height": null,
            "max_width": null,
            "min_height": null,
            "min_width": null,
            "object_fit": null,
            "object_position": null,
            "order": null,
            "overflow": null,
            "overflow_x": null,
            "overflow_y": null,
            "padding": null,
            "right": null,
            "top": null,
            "visibility": null,
            "width": null
          }
        },
        "895073dbce4c482b80aea07d6b1d28fd": {
          "model_module": "@jupyter-widgets/controls",
          "model_name": "ProgressStyleModel",
          "model_module_version": "1.5.0",
          "state": {
            "_model_module": "@jupyter-widgets/controls",
            "_model_module_version": "1.5.0",
            "_model_name": "ProgressStyleModel",
            "_view_count": null,
            "_view_module": "@jupyter-widgets/base",
            "_view_module_version": "1.2.0",
            "_view_name": "StyleView",
            "bar_color": null,
            "description_width": ""
          }
        },
        "1ece9f81ae3f499ba19f10256c643266": {
          "model_module": "@jupyter-widgets/base",
          "model_name": "LayoutModel",
          "model_module_version": "1.2.0",
          "state": {
            "_model_module": "@jupyter-widgets/base",
            "_model_module_version": "1.2.0",
            "_model_name": "LayoutModel",
            "_view_count": null,
            "_view_module": "@jupyter-widgets/base",
            "_view_module_version": "1.2.0",
            "_view_name": "LayoutView",
            "align_content": null,
            "align_items": null,
            "align_self": null,
            "border": null,
            "bottom": null,
            "display": null,
            "flex": null,
            "flex_flow": null,
            "grid_area": null,
            "grid_auto_columns": null,
            "grid_auto_flow": null,
            "grid_auto_rows": null,
            "grid_column": null,
            "grid_gap": null,
            "grid_row": null,
            "grid_template_areas": null,
            "grid_template_columns": null,
            "grid_template_rows": null,
            "height": null,
            "justify_content": null,
            "justify_items": null,
            "left": null,
            "margin": null,
            "max_height": null,
            "max_width": null,
            "min_height": null,
            "min_width": null,
            "object_fit": null,
            "object_position": null,
            "order": null,
            "overflow": null,
            "overflow_x": null,
            "overflow_y": null,
            "padding": null,
            "right": null,
            "top": null,
            "visibility": null,
            "width": null
          }
        },
        "d017f12bf6484b4683ce7b994c66f19e": {
          "model_module": "@jupyter-widgets/controls",
          "model_name": "DescriptionStyleModel",
          "model_module_version": "1.5.0",
          "state": {
            "_model_module": "@jupyter-widgets/controls",
            "_model_module_version": "1.5.0",
            "_model_name": "DescriptionStyleModel",
            "_view_count": null,
            "_view_module": "@jupyter-widgets/base",
            "_view_module_version": "1.2.0",
            "_view_name": "StyleView",
            "description_width": ""
          }
        },
        "114950d99fc04b8986f9777f8bc3d83c": {
          "model_module": "@jupyter-widgets/controls",
          "model_name": "HBoxModel",
          "model_module_version": "1.5.0",
          "state": {
            "_dom_classes": [],
            "_model_module": "@jupyter-widgets/controls",
            "_model_module_version": "1.5.0",
            "_model_name": "HBoxModel",
            "_view_count": null,
            "_view_module": "@jupyter-widgets/controls",
            "_view_module_version": "1.5.0",
            "_view_name": "HBoxView",
            "box_style": "",
            "children": [
              "IPY_MODEL_62f6935c94ca468f8b59d5fa1903dc0b",
              "IPY_MODEL_f1b77b64a4e84486b52c009dd34fbb59",
              "IPY_MODEL_2112d5e0a9b1487aae7fa34859f7572c"
            ],
            "layout": "IPY_MODEL_1be826531b7c40b99e65299d0a1fec18"
          }
        },
        "62f6935c94ca468f8b59d5fa1903dc0b": {
          "model_module": "@jupyter-widgets/controls",
          "model_name": "HTMLModel",
          "model_module_version": "1.5.0",
          "state": {
            "_dom_classes": [],
            "_model_module": "@jupyter-widgets/controls",
            "_model_module_version": "1.5.0",
            "_model_name": "HTMLModel",
            "_view_count": null,
            "_view_module": "@jupyter-widgets/controls",
            "_view_module_version": "1.5.0",
            "_view_name": "HTMLView",
            "description": "",
            "description_tooltip": null,
            "layout": "IPY_MODEL_a02f61ca458a45ea85152b0dc30c7702",
            "placeholder": "​",
            "style": "IPY_MODEL_852b518b1c3f492392be11edaa9a01d8",
            "value": "generation_config.json: 100%"
          }
        },
        "f1b77b64a4e84486b52c009dd34fbb59": {
          "model_module": "@jupyter-widgets/controls",
          "model_name": "FloatProgressModel",
          "model_module_version": "1.5.0",
          "state": {
            "_dom_classes": [],
            "_model_module": "@jupyter-widgets/controls",
            "_model_module_version": "1.5.0",
            "_model_name": "FloatProgressModel",
            "_view_count": null,
            "_view_module": "@jupyter-widgets/controls",
            "_view_module_version": "1.5.0",
            "_view_name": "ProgressView",
            "bar_style": "success",
            "description": "",
            "description_tooltip": null,
            "layout": "IPY_MODEL_ab8f99988ac24272baf121e5f070edcb",
            "max": 124,
            "min": 0,
            "orientation": "horizontal",
            "style": "IPY_MODEL_726c0b2033a94f2f8877d2ea9231736d",
            "value": 124
          }
        },
        "2112d5e0a9b1487aae7fa34859f7572c": {
          "model_module": "@jupyter-widgets/controls",
          "model_name": "HTMLModel",
          "model_module_version": "1.5.0",
          "state": {
            "_dom_classes": [],
            "_model_module": "@jupyter-widgets/controls",
            "_model_module_version": "1.5.0",
            "_model_name": "HTMLModel",
            "_view_count": null,
            "_view_module": "@jupyter-widgets/controls",
            "_view_module_version": "1.5.0",
            "_view_name": "HTMLView",
            "description": "",
            "description_tooltip": null,
            "layout": "IPY_MODEL_86d10568564a4ec89eb93e89d62af467",
            "placeholder": "​",
            "style": "IPY_MODEL_aec17006493d4d0faa4de028611ef40b",
            "value": " 124/124 [00:00&lt;00:00, 14.9kB/s]"
          }
        },
        "1be826531b7c40b99e65299d0a1fec18": {
          "model_module": "@jupyter-widgets/base",
          "model_name": "LayoutModel",
          "model_module_version": "1.2.0",
          "state": {
            "_model_module": "@jupyter-widgets/base",
            "_model_module_version": "1.2.0",
            "_model_name": "LayoutModel",
            "_view_count": null,
            "_view_module": "@jupyter-widgets/base",
            "_view_module_version": "1.2.0",
            "_view_name": "LayoutView",
            "align_content": null,
            "align_items": null,
            "align_self": null,
            "border": null,
            "bottom": null,
            "display": null,
            "flex": null,
            "flex_flow": null,
            "grid_area": null,
            "grid_auto_columns": null,
            "grid_auto_flow": null,
            "grid_auto_rows": null,
            "grid_column": null,
            "grid_gap": null,
            "grid_row": null,
            "grid_template_areas": null,
            "grid_template_columns": null,
            "grid_template_rows": null,
            "height": null,
            "justify_content": null,
            "justify_items": null,
            "left": null,
            "margin": null,
            "max_height": null,
            "max_width": null,
            "min_height": null,
            "min_width": null,
            "object_fit": null,
            "object_position": null,
            "order": null,
            "overflow": null,
            "overflow_x": null,
            "overflow_y": null,
            "padding": null,
            "right": null,
            "top": null,
            "visibility": null,
            "width": null
          }
        },
        "a02f61ca458a45ea85152b0dc30c7702": {
          "model_module": "@jupyter-widgets/base",
          "model_name": "LayoutModel",
          "model_module_version": "1.2.0",
          "state": {
            "_model_module": "@jupyter-widgets/base",
            "_model_module_version": "1.2.0",
            "_model_name": "LayoutModel",
            "_view_count": null,
            "_view_module": "@jupyter-widgets/base",
            "_view_module_version": "1.2.0",
            "_view_name": "LayoutView",
            "align_content": null,
            "align_items": null,
            "align_self": null,
            "border": null,
            "bottom": null,
            "display": null,
            "flex": null,
            "flex_flow": null,
            "grid_area": null,
            "grid_auto_columns": null,
            "grid_auto_flow": null,
            "grid_auto_rows": null,
            "grid_column": null,
            "grid_gap": null,
            "grid_row": null,
            "grid_template_areas": null,
            "grid_template_columns": null,
            "grid_template_rows": null,
            "height": null,
            "justify_content": null,
            "justify_items": null,
            "left": null,
            "margin": null,
            "max_height": null,
            "max_width": null,
            "min_height": null,
            "min_width": null,
            "object_fit": null,
            "object_position": null,
            "order": null,
            "overflow": null,
            "overflow_x": null,
            "overflow_y": null,
            "padding": null,
            "right": null,
            "top": null,
            "visibility": null,
            "width": null
          }
        },
        "852b518b1c3f492392be11edaa9a01d8": {
          "model_module": "@jupyter-widgets/controls",
          "model_name": "DescriptionStyleModel",
          "model_module_version": "1.5.0",
          "state": {
            "_model_module": "@jupyter-widgets/controls",
            "_model_module_version": "1.5.0",
            "_model_name": "DescriptionStyleModel",
            "_view_count": null,
            "_view_module": "@jupyter-widgets/base",
            "_view_module_version": "1.2.0",
            "_view_name": "StyleView",
            "description_width": ""
          }
        },
        "ab8f99988ac24272baf121e5f070edcb": {
          "model_module": "@jupyter-widgets/base",
          "model_name": "LayoutModel",
          "model_module_version": "1.2.0",
          "state": {
            "_model_module": "@jupyter-widgets/base",
            "_model_module_version": "1.2.0",
            "_model_name": "LayoutModel",
            "_view_count": null,
            "_view_module": "@jupyter-widgets/base",
            "_view_module_version": "1.2.0",
            "_view_name": "LayoutView",
            "align_content": null,
            "align_items": null,
            "align_self": null,
            "border": null,
            "bottom": null,
            "display": null,
            "flex": null,
            "flex_flow": null,
            "grid_area": null,
            "grid_auto_columns": null,
            "grid_auto_flow": null,
            "grid_auto_rows": null,
            "grid_column": null,
            "grid_gap": null,
            "grid_row": null,
            "grid_template_areas": null,
            "grid_template_columns": null,
            "grid_template_rows": null,
            "height": null,
            "justify_content": null,
            "justify_items": null,
            "left": null,
            "margin": null,
            "max_height": null,
            "max_width": null,
            "min_height": null,
            "min_width": null,
            "object_fit": null,
            "object_position": null,
            "order": null,
            "overflow": null,
            "overflow_x": null,
            "overflow_y": null,
            "padding": null,
            "right": null,
            "top": null,
            "visibility": null,
            "width": null
          }
        },
        "726c0b2033a94f2f8877d2ea9231736d": {
          "model_module": "@jupyter-widgets/controls",
          "model_name": "ProgressStyleModel",
          "model_module_version": "1.5.0",
          "state": {
            "_model_module": "@jupyter-widgets/controls",
            "_model_module_version": "1.5.0",
            "_model_name": "ProgressStyleModel",
            "_view_count": null,
            "_view_module": "@jupyter-widgets/base",
            "_view_module_version": "1.2.0",
            "_view_name": "StyleView",
            "bar_color": null,
            "description_width": ""
          }
        },
        "86d10568564a4ec89eb93e89d62af467": {
          "model_module": "@jupyter-widgets/base",
          "model_name": "LayoutModel",
          "model_module_version": "1.2.0",
          "state": {
            "_model_module": "@jupyter-widgets/base",
            "_model_module_version": "1.2.0",
            "_model_name": "LayoutModel",
            "_view_count": null,
            "_view_module": "@jupyter-widgets/base",
            "_view_module_version": "1.2.0",
            "_view_name": "LayoutView",
            "align_content": null,
            "align_items": null,
            "align_self": null,
            "border": null,
            "bottom": null,
            "display": null,
            "flex": null,
            "flex_flow": null,
            "grid_area": null,
            "grid_auto_columns": null,
            "grid_auto_flow": null,
            "grid_auto_rows": null,
            "grid_column": null,
            "grid_gap": null,
            "grid_row": null,
            "grid_template_areas": null,
            "grid_template_columns": null,
            "grid_template_rows": null,
            "height": null,
            "justify_content": null,
            "justify_items": null,
            "left": null,
            "margin": null,
            "max_height": null,
            "max_width": null,
            "min_height": null,
            "min_width": null,
            "object_fit": null,
            "object_position": null,
            "order": null,
            "overflow": null,
            "overflow_x": null,
            "overflow_y": null,
            "padding": null,
            "right": null,
            "top": null,
            "visibility": null,
            "width": null
          }
        },
        "aec17006493d4d0faa4de028611ef40b": {
          "model_module": "@jupyter-widgets/controls",
          "model_name": "DescriptionStyleModel",
          "model_module_version": "1.5.0",
          "state": {
            "_model_module": "@jupyter-widgets/controls",
            "_model_module_version": "1.5.0",
            "_model_name": "DescriptionStyleModel",
            "_view_count": null,
            "_view_module": "@jupyter-widgets/base",
            "_view_module_version": "1.2.0",
            "_view_name": "StyleView",
            "description_width": ""
          }
        }
      }
    }
  },
  "cells": [
    {
      "cell_type": "markdown",
      "metadata": {
        "id": "view-in-github",
        "colab_type": "text"
      },
      "source": [
        "<a href=\"https://colab.research.google.com/github/bella-xia/LLM-from-scratch/blob/master/Interview.ipynb\" target=\"_parent\"><img src=\"https://colab.research.google.com/assets/colab-badge.svg\" alt=\"Open In Colab\"/></a>"
      ]
    },
    {
      "cell_type": "code",
      "source": [
        "!pip install transformers"
      ],
      "metadata": {
        "colab": {
          "base_uri": "https://localhost:8080/"
        },
        "id": "pZV4z1zeHSeD",
        "outputId": "cf9b31e8-1e6e-4d1f-ff49-dc9745137e08"
      },
      "execution_count": 1,
      "outputs": [
        {
          "output_type": "stream",
          "name": "stdout",
          "text": [
            "Requirement already satisfied: transformers in /usr/local/lib/python3.11/dist-packages (4.52.4)\n",
            "Requirement already satisfied: filelock in /usr/local/lib/python3.11/dist-packages (from transformers) (3.18.0)\n",
            "Requirement already satisfied: huggingface-hub<1.0,>=0.30.0 in /usr/local/lib/python3.11/dist-packages (from transformers) (0.33.0)\n",
            "Requirement already satisfied: numpy>=1.17 in /usr/local/lib/python3.11/dist-packages (from transformers) (2.0.2)\n",
            "Requirement already satisfied: packaging>=20.0 in /usr/local/lib/python3.11/dist-packages (from transformers) (24.2)\n",
            "Requirement already satisfied: pyyaml>=5.1 in /usr/local/lib/python3.11/dist-packages (from transformers) (6.0.2)\n",
            "Requirement already satisfied: regex!=2019.12.17 in /usr/local/lib/python3.11/dist-packages (from transformers) (2024.11.6)\n",
            "Requirement already satisfied: requests in /usr/local/lib/python3.11/dist-packages (from transformers) (2.32.3)\n",
            "Requirement already satisfied: tokenizers<0.22,>=0.21 in /usr/local/lib/python3.11/dist-packages (from transformers) (0.21.1)\n",
            "Requirement already satisfied: safetensors>=0.4.3 in /usr/local/lib/python3.11/dist-packages (from transformers) (0.5.3)\n",
            "Requirement already satisfied: tqdm>=4.27 in /usr/local/lib/python3.11/dist-packages (from transformers) (4.67.1)\n",
            "Requirement already satisfied: fsspec>=2023.5.0 in /usr/local/lib/python3.11/dist-packages (from huggingface-hub<1.0,>=0.30.0->transformers) (2025.3.2)\n",
            "Requirement already satisfied: typing-extensions>=3.7.4.3 in /usr/local/lib/python3.11/dist-packages (from huggingface-hub<1.0,>=0.30.0->transformers) (4.14.0)\n",
            "Requirement already satisfied: hf-xet<2.0.0,>=1.1.2 in /usr/local/lib/python3.11/dist-packages (from huggingface-hub<1.0,>=0.30.0->transformers) (1.1.5)\n",
            "Requirement already satisfied: charset-normalizer<4,>=2 in /usr/local/lib/python3.11/dist-packages (from requests->transformers) (3.4.2)\n",
            "Requirement already satisfied: idna<4,>=2.5 in /usr/local/lib/python3.11/dist-packages (from requests->transformers) (3.10)\n",
            "Requirement already satisfied: urllib3<3,>=1.21.1 in /usr/local/lib/python3.11/dist-packages (from requests->transformers) (2.4.0)\n",
            "Requirement already satisfied: certifi>=2017.4.17 in /usr/local/lib/python3.11/dist-packages (from requests->transformers) (2025.6.15)\n"
          ]
        }
      ]
    },
    {
      "cell_type": "code",
      "source": [
        "!pip install -U datasets"
      ],
      "metadata": {
        "colab": {
          "base_uri": "https://localhost:8080/"
        },
        "id": "E_f8eYGsZWSe",
        "outputId": "60109c0d-4a4e-4fc3-da14-225266fb8b24"
      },
      "execution_count": 2,
      "outputs": [
        {
          "output_type": "stream",
          "name": "stdout",
          "text": [
            "Requirement already satisfied: datasets in /usr/local/lib/python3.11/dist-packages (2.14.4)\n",
            "Collecting datasets\n",
            "  Downloading datasets-3.6.0-py3-none-any.whl.metadata (19 kB)\n",
            "Requirement already satisfied: filelock in /usr/local/lib/python3.11/dist-packages (from datasets) (3.18.0)\n",
            "Requirement already satisfied: numpy>=1.17 in /usr/local/lib/python3.11/dist-packages (from datasets) (2.0.2)\n",
            "Requirement already satisfied: pyarrow>=15.0.0 in /usr/local/lib/python3.11/dist-packages (from datasets) (18.1.0)\n",
            "Requirement already satisfied: dill<0.3.9,>=0.3.0 in /usr/local/lib/python3.11/dist-packages (from datasets) (0.3.7)\n",
            "Requirement already satisfied: pandas in /usr/local/lib/python3.11/dist-packages (from datasets) (2.2.2)\n",
            "Requirement already satisfied: requests>=2.32.2 in /usr/local/lib/python3.11/dist-packages (from datasets) (2.32.3)\n",
            "Requirement already satisfied: tqdm>=4.66.3 in /usr/local/lib/python3.11/dist-packages (from datasets) (4.67.1)\n",
            "Requirement already satisfied: xxhash in /usr/local/lib/python3.11/dist-packages (from datasets) (3.5.0)\n",
            "Requirement already satisfied: multiprocess<0.70.17 in /usr/local/lib/python3.11/dist-packages (from datasets) (0.70.15)\n",
            "Collecting fsspec<=2025.3.0,>=2023.1.0 (from fsspec[http]<=2025.3.0,>=2023.1.0->datasets)\n",
            "  Downloading fsspec-2025.3.0-py3-none-any.whl.metadata (11 kB)\n",
            "Requirement already satisfied: huggingface-hub>=0.24.0 in /usr/local/lib/python3.11/dist-packages (from datasets) (0.33.0)\n",
            "Requirement already satisfied: packaging in /usr/local/lib/python3.11/dist-packages (from datasets) (24.2)\n",
            "Requirement already satisfied: pyyaml>=5.1 in /usr/local/lib/python3.11/dist-packages (from datasets) (6.0.2)\n",
            "Requirement already satisfied: aiohttp!=4.0.0a0,!=4.0.0a1 in /usr/local/lib/python3.11/dist-packages (from fsspec[http]<=2025.3.0,>=2023.1.0->datasets) (3.11.15)\n",
            "Requirement already satisfied: typing-extensions>=3.7.4.3 in /usr/local/lib/python3.11/dist-packages (from huggingface-hub>=0.24.0->datasets) (4.14.0)\n",
            "Requirement already satisfied: hf-xet<2.0.0,>=1.1.2 in /usr/local/lib/python3.11/dist-packages (from huggingface-hub>=0.24.0->datasets) (1.1.5)\n",
            "Requirement already satisfied: charset-normalizer<4,>=2 in /usr/local/lib/python3.11/dist-packages (from requests>=2.32.2->datasets) (3.4.2)\n",
            "Requirement already satisfied: idna<4,>=2.5 in /usr/local/lib/python3.11/dist-packages (from requests>=2.32.2->datasets) (3.10)\n",
            "Requirement already satisfied: urllib3<3,>=1.21.1 in /usr/local/lib/python3.11/dist-packages (from requests>=2.32.2->datasets) (2.4.0)\n",
            "Requirement already satisfied: certifi>=2017.4.17 in /usr/local/lib/python3.11/dist-packages (from requests>=2.32.2->datasets) (2025.6.15)\n",
            "Requirement already satisfied: python-dateutil>=2.8.2 in /usr/local/lib/python3.11/dist-packages (from pandas->datasets) (2.9.0.post0)\n",
            "Requirement already satisfied: pytz>=2020.1 in /usr/local/lib/python3.11/dist-packages (from pandas->datasets) (2025.2)\n",
            "Requirement already satisfied: tzdata>=2022.7 in /usr/local/lib/python3.11/dist-packages (from pandas->datasets) (2025.2)\n",
            "Requirement already satisfied: aiohappyeyeballs>=2.3.0 in /usr/local/lib/python3.11/dist-packages (from aiohttp!=4.0.0a0,!=4.0.0a1->fsspec[http]<=2025.3.0,>=2023.1.0->datasets) (2.6.1)\n",
            "Requirement already satisfied: aiosignal>=1.1.2 in /usr/local/lib/python3.11/dist-packages (from aiohttp!=4.0.0a0,!=4.0.0a1->fsspec[http]<=2025.3.0,>=2023.1.0->datasets) (1.3.2)\n",
            "Requirement already satisfied: attrs>=17.3.0 in /usr/local/lib/python3.11/dist-packages (from aiohttp!=4.0.0a0,!=4.0.0a1->fsspec[http]<=2025.3.0,>=2023.1.0->datasets) (25.3.0)\n",
            "Requirement already satisfied: frozenlist>=1.1.1 in /usr/local/lib/python3.11/dist-packages (from aiohttp!=4.0.0a0,!=4.0.0a1->fsspec[http]<=2025.3.0,>=2023.1.0->datasets) (1.7.0)\n",
            "Requirement already satisfied: multidict<7.0,>=4.5 in /usr/local/lib/python3.11/dist-packages (from aiohttp!=4.0.0a0,!=4.0.0a1->fsspec[http]<=2025.3.0,>=2023.1.0->datasets) (6.5.0)\n",
            "Requirement already satisfied: propcache>=0.2.0 in /usr/local/lib/python3.11/dist-packages (from aiohttp!=4.0.0a0,!=4.0.0a1->fsspec[http]<=2025.3.0,>=2023.1.0->datasets) (0.3.2)\n",
            "Requirement already satisfied: yarl<2.0,>=1.17.0 in /usr/local/lib/python3.11/dist-packages (from aiohttp!=4.0.0a0,!=4.0.0a1->fsspec[http]<=2025.3.0,>=2023.1.0->datasets) (1.20.1)\n",
            "Requirement already satisfied: six>=1.5 in /usr/local/lib/python3.11/dist-packages (from python-dateutil>=2.8.2->pandas->datasets) (1.17.0)\n",
            "Downloading datasets-3.6.0-py3-none-any.whl (491 kB)\n",
            "\u001b[2K   \u001b[90m━━━━━━━━━━━━━━━━━━━━━━━━━━━━━━━━━━━━━━━━\u001b[0m \u001b[32m491.5/491.5 kB\u001b[0m \u001b[31m8.7 MB/s\u001b[0m eta \u001b[36m0:00:00\u001b[0m\n",
            "\u001b[?25hDownloading fsspec-2025.3.0-py3-none-any.whl (193 kB)\n",
            "\u001b[2K   \u001b[90m━━━━━━━━━━━━━━━━━━━━━━━━━━━━━━━━━━━━━━━━\u001b[0m \u001b[32m193.6/193.6 kB\u001b[0m \u001b[31m16.7 MB/s\u001b[0m eta \u001b[36m0:00:00\u001b[0m\n",
            "\u001b[?25hInstalling collected packages: fsspec, datasets\n",
            "  Attempting uninstall: fsspec\n",
            "    Found existing installation: fsspec 2025.3.2\n",
            "    Uninstalling fsspec-2025.3.2:\n",
            "      Successfully uninstalled fsspec-2025.3.2\n",
            "  Attempting uninstall: datasets\n",
            "    Found existing installation: datasets 2.14.4\n",
            "    Uninstalling datasets-2.14.4:\n",
            "      Successfully uninstalled datasets-2.14.4\n",
            "\u001b[31mERROR: pip's dependency resolver does not currently take into account all the packages that are installed. This behaviour is the source of the following dependency conflicts.\n",
            "torch 2.6.0+cu124 requires nvidia-cublas-cu12==12.4.5.8; platform_system == \"Linux\" and platform_machine == \"x86_64\", but you have nvidia-cublas-cu12 12.5.3.2 which is incompatible.\n",
            "torch 2.6.0+cu124 requires nvidia-cuda-cupti-cu12==12.4.127; platform_system == \"Linux\" and platform_machine == \"x86_64\", but you have nvidia-cuda-cupti-cu12 12.5.82 which is incompatible.\n",
            "torch 2.6.0+cu124 requires nvidia-cuda-nvrtc-cu12==12.4.127; platform_system == \"Linux\" and platform_machine == \"x86_64\", but you have nvidia-cuda-nvrtc-cu12 12.5.82 which is incompatible.\n",
            "torch 2.6.0+cu124 requires nvidia-cuda-runtime-cu12==12.4.127; platform_system == \"Linux\" and platform_machine == \"x86_64\", but you have nvidia-cuda-runtime-cu12 12.5.82 which is incompatible.\n",
            "torch 2.6.0+cu124 requires nvidia-cudnn-cu12==9.1.0.70; platform_system == \"Linux\" and platform_machine == \"x86_64\", but you have nvidia-cudnn-cu12 9.3.0.75 which is incompatible.\n",
            "torch 2.6.0+cu124 requires nvidia-cufft-cu12==11.2.1.3; platform_system == \"Linux\" and platform_machine == \"x86_64\", but you have nvidia-cufft-cu12 11.2.3.61 which is incompatible.\n",
            "torch 2.6.0+cu124 requires nvidia-curand-cu12==10.3.5.147; platform_system == \"Linux\" and platform_machine == \"x86_64\", but you have nvidia-curand-cu12 10.3.6.82 which is incompatible.\n",
            "torch 2.6.0+cu124 requires nvidia-cusolver-cu12==11.6.1.9; platform_system == \"Linux\" and platform_machine == \"x86_64\", but you have nvidia-cusolver-cu12 11.6.3.83 which is incompatible.\n",
            "torch 2.6.0+cu124 requires nvidia-cusparse-cu12==12.3.1.170; platform_system == \"Linux\" and platform_machine == \"x86_64\", but you have nvidia-cusparse-cu12 12.5.1.3 which is incompatible.\n",
            "torch 2.6.0+cu124 requires nvidia-nvjitlink-cu12==12.4.127; platform_system == \"Linux\" and platform_machine == \"x86_64\", but you have nvidia-nvjitlink-cu12 12.5.82 which is incompatible.\n",
            "gcsfs 2025.3.2 requires fsspec==2025.3.2, but you have fsspec 2025.3.0 which is incompatible.\u001b[0m\u001b[31m\n",
            "\u001b[0mSuccessfully installed datasets-3.6.0 fsspec-2025.3.0\n"
          ]
        }
      ]
    },
    {
      "cell_type": "code",
      "execution_count": 30,
      "metadata": {
        "id": "-v3ZifZVc3BJ"
      },
      "outputs": [],
      "source": [
        "import torch, tiktoken, time, copy, statistics, textwrap\n",
        "import torch.nn as nn\n",
        "import torch.nn.functional as F\n",
        "from tqdm import tqdm, trange\n",
        "import matplotlib.pyplot as plt\n",
        "from transformers import GPT2Tokenizer, GPT2LMHeadModel, modeling_utils\n",
        "from datasets import load_dataset"
      ]
    },
    {
      "cell_type": "markdown",
      "source": [
        "## Quantization"
      ],
      "metadata": {
        "id": "Jl8ykNhpGtuc"
      }
    },
    {
      "cell_type": "markdown",
      "source": [
        "![Single-Precision-IEEE-754-Floating-Point-Standard.jpg](data:image/jpeg;base64,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) [1]"
      ],
      "metadata": {
        "id": "IbjSB34JiKN_"
      }
    },
    {
      "cell_type": "markdown",
      "source": [
        "![int8_demo.png](data:image/png;base64,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) [2]"
      ],
      "metadata": {
        "id": "rMmIPAkXiMRn"
      }
    },
    {
      "cell_type": "code",
      "source": [
        "class DemoModel(nn.Module):\n",
        "  def __init__(self):\n",
        "    super().__init__()\n",
        "    self.fc1 = nn.Linear(1, 4, bias=False)\n",
        "    self.fc2 = nn.Linear(4, 1, bias=False)\n",
        "\n",
        "  def forward(self, x):\n",
        "    x = self.fc1(x)\n",
        "    x = self.fc2(x)\n",
        "    return x"
      ],
      "metadata": {
        "id": "GtC1Us2SV1lk"
      },
      "execution_count": 32,
      "outputs": []
    },
    {
      "cell_type": "code",
      "source": [
        "demo1 = DemoModel()\n",
        "demo1.fc1.weight, demo1.fc2.weight"
      ],
      "metadata": {
        "colab": {
          "base_uri": "https://localhost:8080/"
        },
        "id": "BZVwEDYQV9_h",
        "outputId": "e96186b4-bdb8-4fef-a407-9a9743b96ef1"
      },
      "execution_count": 33,
      "outputs": [
        {
          "output_type": "execute_result",
          "data": {
            "text/plain": [
              "(Parameter containing:\n",
              " tensor([[-0.0130],\n",
              "         [-0.5656],\n",
              "         [ 0.4519],\n",
              "         [ 0.8007]], requires_grad=True),\n",
              " Parameter containing:\n",
              " tensor([[ 0.4671, -0.1184,  0.0207,  0.2401]], requires_grad=True))"
            ]
          },
          "metadata": {},
          "execution_count": 33
        }
      ]
    },
    {
      "cell_type": "code",
      "source": [
        "demo2 = torch.ao.quantization.quantize_dynamic(demo1, {nn.Linear}, dtype=torch.qint8)\n",
        "demo2.fc1._packed_params._weight_bias()[0], demo2.fc2._packed_params._weight_bias()[0]"
      ],
      "metadata": {
        "colab": {
          "base_uri": "https://localhost:8080/"
        },
        "id": "0ugTeitbWEVE",
        "outputId": "db5739ce-4a51-4286-dd99-245205727e2c"
      },
      "execution_count": 34,
      "outputs": [
        {
          "output_type": "execute_result",
          "data": {
            "text/plain": [
              "(tensor([[-0.0126],\n",
              "         [-0.5652],\n",
              "         [ 0.4522],\n",
              "         [ 0.7976]], size=(4, 1), dtype=torch.qint8,\n",
              "        quantization_scheme=torch.per_tensor_affine, scale=0.006280260626226664,\n",
              "        zero_point=0),\n",
              " tensor([[ 0.4653, -0.1172,  0.0220,  0.2418]], size=(1, 4), dtype=torch.qint8,\n",
              "        quantization_scheme=torch.per_tensor_affine, scale=0.0036634113639593124,\n",
              "        zero_point=0))"
            ]
          },
          "metadata": {},
          "execution_count": 34
        }
      ]
    },
    {
      "cell_type": "code",
      "source": [
        "input = torch.randn((4, 1))\n",
        "demo1.eval()\n",
        "with torch.no_grad():\n",
        "  output1 = demo1(input)\n",
        "print(output1)"
      ],
      "metadata": {
        "colab": {
          "base_uri": "https://localhost:8080/"
        },
        "id": "9mk5zhsyWIMN",
        "outputId": "d6e088f7-0a73-447a-8642-ae76b9faeb1e"
      },
      "execution_count": 35,
      "outputs": [
        {
          "output_type": "stream",
          "name": "stdout",
          "text": [
            "tensor([[0.0909],\n",
            "        [0.3309],\n",
            "        [0.4171],\n",
            "        [0.0873]])\n"
          ]
        }
      ]
    },
    {
      "cell_type": "code",
      "source": [
        "demo2.eval()\n",
        "with torch.no_grad():\n",
        "  output2 = demo2(input)\n",
        "print(output2)"
      ],
      "metadata": {
        "colab": {
          "base_uri": "https://localhost:8080/"
        },
        "id": "mSH6jnNjXJ5Q",
        "outputId": "9294da40-b229-4e09-faed-32772cc1a154"
      },
      "execution_count": 36,
      "outputs": [
        {
          "output_type": "stream",
          "name": "stdout",
          "text": [
            "tensor([[0.0933],\n",
            "        [0.3319],\n",
            "        [0.4187],\n",
            "        [0.0913]])\n"
          ]
        }
      ]
    },
    {
      "cell_type": "markdown",
      "source": [
        "The Quation involved is:\n",
        "\n",
        "Q(x, scale, zero_point) = x / scale + zero_point"
      ],
      "metadata": {
        "id": "vjxaXxnXgRsh"
      }
    },
    {
      "cell_type": "code",
      "source": [
        "def demo_quantization(tensor, scale, zero_point=0):\n",
        "    q_tensor = torch.clamp((tensor / scale).round() + zero_point, -128, 127).to(torch.int8)\n",
        "    dq_tensor = (q_tensor.to(torch.float32) - zero_point) * scale\n",
        "\n",
        "    print(\"Original tensor:\", tensor)\n",
        "    print(\"Quantized int8:\", q_tensor)\n",
        "    print(f\"Dequantized tensor with scale {scale} and zero point {zero_point}:\", dq_tensor)"
      ],
      "metadata": {
        "id": "vieYkHx5eju5"
      },
      "execution_count": 63,
      "outputs": []
    },
    {
      "cell_type": "code",
      "source": [
        "demo_quantization(torch.tensor([0.0909]), 0.01)"
      ],
      "metadata": {
        "colab": {
          "base_uri": "https://localhost:8080/"
        },
        "id": "Jg-fmLLCfvB0",
        "outputId": "65cb6759-46f4-452c-db9f-4f9f52826267"
      },
      "execution_count": 69,
      "outputs": [
        {
          "output_type": "stream",
          "name": "stdout",
          "text": [
            "Original tensor: tensor([0.0909])\n",
            "Quantized int8: tensor([9], dtype=torch.int8)\n",
            "Dequantized tensor with scale 0.01 and zero point 0: tensor([0.0900])\n"
          ]
        }
      ]
    },
    {
      "cell_type": "markdown",
      "source": [
        "## Dummy Model Architecture"
      ],
      "metadata": {
        "id": "7bL4BY0yhQYL"
      }
    },
    {
      "cell_type": "markdown",
      "source": [
        "For the current experiment, I chose to implement a GPT-like Decode-only Transformer model. The model implementation specifics references the procedure in *Build a Large Language Model (From Scratch)* Textbook [3].\n",
        "\n",
        "GPT-based Decoder-only architecture is currently one of the most popular LLM structure. Its linear stacking of Transformer blocks also provide a good, scalable architecture for performance comparison by alternating hyperparameters."
      ],
      "metadata": {
        "id": "4IvtTjaE4men"
      }
    },
    {
      "cell_type": "markdown",
      "source": [
        "![gpt2-architecture.png](data:image/png;base64,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)"
      ],
      "metadata": {
        "id": "M-D6tju4fU_M"
      }
    },
    {
      "cell_type": "markdown",
      "source": [
        "GPT2 Architecture [4]"
      ],
      "metadata": {
        "id": "mhmtegPTfY50"
      }
    },
    {
      "cell_type": "code",
      "source": [
        "class MultiHeadAttention(nn.Module):\n",
        "  def __init__(self, embed_dim, out_dim, num_heads,\n",
        "               drop_rate, bias):\n",
        "    super().__init__()\n",
        "\n",
        "    if (out_dim % num_heads) != 0:\n",
        "      raise Exception('output dimension must be a multiple of the number of heads')\n",
        "\n",
        "    self.out_dim = out_dim\n",
        "    self.num_heads = num_heads\n",
        "    self.per_head_dim = out_dim // num_heads\n",
        "\n",
        "    self.q_proj = nn.Linear(embed_dim, out_dim, bias=bias)\n",
        "    self.k_proj = nn.Linear(embed_dim, out_dim, bias=bias)\n",
        "    self.v_proj = nn.Linear(embed_dim, out_dim, bias=bias)\n",
        "\n",
        "    self.out_proj = nn.Linear(out_dim, out_dim)\n",
        "    self.dropout = nn.Dropout(drop_rate)\n",
        "\n",
        "  def forward(self, x):\n",
        "    batch_size, context_len, embed_dim = x.shape\n",
        "\n",
        "    k, q, v = self.k_proj(x), self.q_proj(x), self.v_proj(x)\n",
        "\n",
        "    k = k.view(batch_size, context_len, self.num_heads, self.per_head_dim)\n",
        "    q = q.view(batch_size, context_len, self.num_heads, self.per_head_dim)\n",
        "    v = v.view(batch_size, context_len, self.num_heads, self.per_head_dim)\n",
        "\n",
        "    attn_scores = torch.matmul(q, k.transpose(-2, -1)) / (self.per_head_dim ** 0.5)\n",
        "    attn_weights = torch.softmax(attn_scores / k.shape[-1] ** 0.5, dim=-1)\n",
        "    attn_weights = self.dropout(attn_weights)\n",
        "\n",
        "    context_vec = torch.matmul(attn_weights, v)\n",
        "    context_vec = context_vec.view(batch_size, context_len, self.out_dim)\n",
        "    out = self.out_proj(context_vec)\n",
        "\n",
        "    return out"
      ],
      "metadata": {
        "id": "GryCmmGEfgyj"
      },
      "execution_count": 2,
      "outputs": []
    },
    {
      "cell_type": "code",
      "source": [
        "class TransBlock(nn.Module):\n",
        "  def __init__(self, embed_dim, num_heads, drop_rate, bias):\n",
        "    super().__init__()\n",
        "    self.attn_layer = MultiHeadAttention(embed_dim, embed_dim, num_heads, drop_rate, bias)\n",
        "    self.ff_layer = nn.Sequential(\n",
        "        nn.Linear(embed_dim, 4 * embed_dim),\n",
        "        nn.ReLU(),\n",
        "        nn.Linear(4 * embed_dim, embed_dim)\n",
        "    )\n",
        "    self.norm1 = nn.LayerNorm(embed_dim)\n",
        "    self.norm2 = nn.LayerNorm(embed_dim)\n",
        "    self.dropout = nn.Dropout(drop_rate)\n",
        "\n",
        "  def forward(self, x):\n",
        "    # attention layer\n",
        "    residual = x\n",
        "    x = self.attn_layer(x)\n",
        "    x = self.dropout(x)\n",
        "    x = self.norm1(x + residual)\n",
        "\n",
        "    # feed forward layer\n",
        "    residual = x\n",
        "    x = self.ff_layer(x)\n",
        "    x = self.dropout(x)\n",
        "    x = self.norm2(x + residual)\n",
        "\n",
        "    return x"
      ],
      "metadata": {
        "id": "3XSe5F8beK9I"
      },
      "execution_count": 3,
      "outputs": []
    },
    {
      "cell_type": "code",
      "source": [
        "class DecoderModel(nn.Module):\n",
        "  def __init__(self, vocab_size, num_heads,\n",
        "               embed_dim, context_len, drop_rate,\n",
        "               num_layer, bias=False):\n",
        "    super().__init__()\n",
        "    self.tok_embed = nn.Embedding(vocab_size, embed_dim)\n",
        "    self.pos_embed = nn.Embedding(context_len, embed_dim)\n",
        "    self.drop_layer = nn.Dropout(drop_rate)\n",
        "    self.transformer_blocks = nn.Sequential(\n",
        "        *[TransBlock(embed_dim, num_heads, drop_rate, bias) for _ in range(num_layer)]\n",
        "    )\n",
        "    self.out_norm = nn.LayerNorm(embed_dim)\n",
        "    self.out_head = nn.Linear(embed_dim, vocab_size)\n",
        "\n",
        "  def forward(self, x):\n",
        "    device = x.device\n",
        "    _, context_len = x.shape\n",
        "\n",
        "    tok_embeds = self.tok_embed(x).to(device)\n",
        "    pos_embeds = self.pos_embed(torch.arange(context_len, device=device))\n",
        "    x = tok_embeds + pos_embeds\n",
        "    x = self.drop_layer(x)\n",
        "    x = self.transformer_blocks(x)\n",
        "    x = self.out_norm(x)\n",
        "    logits = self.out_head(x)\n",
        "\n",
        "    return logits"
      ],
      "metadata": {
        "id": "IIXWnNlkdi3x"
      },
      "execution_count": 4,
      "outputs": []
    },
    {
      "cell_type": "markdown",
      "source": [
        "## Inference"
      ],
      "metadata": {
        "id": "W9ALStlxi9XA"
      }
    },
    {
      "cell_type": "code",
      "source": [
        "# meta configs\n",
        "SEED = 42\n",
        "\n",
        "# environment\n",
        "DEVICE = torch.device('cpu')\n",
        "print(f'currently working on {DEVICE}')\n",
        "\n",
        "# model architecture (uses default gpt2 hyperparams)\n",
        "VOCAB_SIZE = 50257\n",
        "NUM_HEADS = 8\n",
        "EMBED_DIM = 512\n",
        "CONTEXT_LEN = 256\n",
        "DROP_RATE = 0.1\n",
        "NUM_LAYER = 12\n",
        "BIAS = False"
      ],
      "metadata": {
        "colab": {
          "base_uri": "https://localhost:8080/"
        },
        "id": "a65kz_wSjyax",
        "outputId": "432c4c2b-3a29-4537-99d2-dacad9a7d7b5"
      },
      "execution_count": 22,
      "outputs": [
        {
          "output_type": "stream",
          "name": "stdout",
          "text": [
            "currently working on cpu\n"
          ]
        }
      ]
    },
    {
      "cell_type": "markdown",
      "source": [
        "\n",
        "![pytorch_quantization.png](data:image/png;base64,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)\n",
        "\n"
      ],
      "metadata": {
        "id": "DY6ry5EZkbNs"
      }
    },
    {
      "cell_type": "markdown",
      "source": [
        "### Helper Functions"
      ],
      "metadata": {
        "id": "pnavtT5M4bfP"
      }
    },
    {
      "cell_type": "code",
      "source": [
        "def generate_encoded_context(context_len):\n",
        "  torch.manual_seed(SEED)\n",
        "  torch.random.manual_seed(SEED)\n",
        "  context = torch.randint(0, VOCAB_SIZE, (context_len,))\n",
        "  return context"
      ],
      "metadata": {
        "id": "CufnBiOdi-rx"
      },
      "execution_count": 40,
      "outputs": []
    },
    {
      "cell_type": "code",
      "source": [
        "def process_comparative_scheme(spec, min_val, max_val, is_log=False):\n",
        "\n",
        "  variables, times1, times2 = [], [], []\n",
        "  for i in trange(min_val, max_val):\n",
        "    variable = 2 ** i if is_log else i\n",
        "    torch.manual_seed(SEED)\n",
        "    torch.random.manual_seed(SEED)\n",
        "    model = DecoderModel(VOCAB_SIZE,\n",
        "                         variable if spec == 'num heads' else NUM_HEADS,\n",
        "                         variable if spec == 'embedding dim' else EMBED_DIM,\n",
        "                         variable if spec == 'context length' else CONTEXT_LEN,\n",
        "                         DROP_RATE,\n",
        "                         variable if spec == 'layer number' else NUM_LAYER,\n",
        "                         BIAS)\n",
        "    model_dq = torch.ao.quantization.quantize_dynamic(model, {nn.Linear}, dtype=torch.qint8)\n",
        "    model.to(DEVICE)\n",
        "    model_dq.to(DEVICE)\n",
        "    model.eval()\n",
        "    model_dq.eval()\n",
        "    idx = generate_encoded_context(variable if spec == 'context length' else CONTEXT_LEN).unsqueeze(0).to(DEVICE)\n",
        "    with torch.no_grad():\n",
        "      start1 = time.time()\n",
        "      model(idx)\n",
        "      end1 = time.time()\n",
        "      times1.append(end1 - start1)\n",
        "      start2 = time.time()\n",
        "      model_dq(idx)\n",
        "      end2 = time.time()\n",
        "      times2.append(end2 - start2)\n",
        "    variables.append(variable)\n",
        "  visualize_data(spec, variables, times1, times2, is_log)"
      ],
      "metadata": {
        "id": "zKLyyu2P2ebj"
      },
      "execution_count": 41,
      "outputs": []
    },
    {
      "cell_type": "code",
      "source": [
        "def visualize_data(spec, variables, times1, times2, is_log):\n",
        "  fig, axes = plt.subplots(1, 2, figsize=(12, 4))\n",
        "  axes[0].plot(variables, times1, label='fp32')\n",
        "  axes[0].plot(variables, times2, label='int8')\n",
        "  axes[0].legend()\n",
        "  if is_log:\n",
        "    axes[0].set_xscale('log', base=2)\n",
        "  axes[0].set_xlabel(spec)\n",
        "  axes[0].set_ylabel('time (s)')\n",
        "  axes[0].set_title('fp32 time vs int8 time')\n",
        "  axes[0].grid()\n",
        "\n",
        "  ratios = [time1 / time2 for (time1, time2) in zip(times1, times2)]\n",
        "  axes[1].plot(variables, ratios)\n",
        "  if is_log:\n",
        "    axes[1].set_xscale('log', base=2)\n",
        "  axes[1].set_xlabel(spec)\n",
        "  axes[1].set_ylabel('ratio')\n",
        "  axes[1].set_title('fp32 time / int8 duration Ratio')\n",
        "  axes[1].grid()\n",
        "\n",
        "  plt.show()"
      ],
      "metadata": {
        "id": "rDUu8NyA2it7"
      },
      "execution_count": 45,
      "outputs": []
    },
    {
      "cell_type": "markdown",
      "source": [
        "### Inference Time Comparison on Dummy Model"
      ],
      "metadata": {
        "id": "DhR3QM7g8rnT"
      }
    },
    {
      "cell_type": "code",
      "source": [
        "process_comparative_scheme('context length', 1, 13, True)"
      ],
      "metadata": {
        "colab": {
          "base_uri": "https://localhost:8080/",
          "height": 434
        },
        "id": "DhAm7Pe84CS7",
        "outputId": "f9d225ef-673b-4a53-9144-a7d20aec6d20"
      },
      "execution_count": 46,
      "outputs": [
        {
          "output_type": "stream",
          "name": "stderr",
          "text": [
            "100%|██████████| 12/12 [00:48<00:00,  4.04s/it]\n"
          ]
        },
        {
          "output_type": "display_data",
          "data": {
            "text/plain": [
              "<Figure size 1200x400 with 2 Axes>"
            ],
            "image/png": "[encoded data removed]"
          },
          "metadata": {}
        }
      ]
    },
    {
      "cell_type": "code",
      "source": [
        "process_comparative_scheme('num heads', 1, 6, True)"
      ],
      "metadata": {
        "colab": {
          "base_uri": "https://localhost:8080/",
          "height": 434
        },
        "id": "SlUEhMDXmeHC",
        "outputId": "d91f4f62-f5f5-4d04-b33c-50ae82f05730"
      },
      "execution_count": 52,
      "outputs": [
        {
          "output_type": "stream",
          "name": "stderr",
          "text": [
            "100%|██████████| 5/5 [00:13<00:00,  2.70s/it]\n"
          ]
        },
        {
          "output_type": "display_data",
          "data": {
            "text/plain": [
              "<Figure size 1200x400 with 2 Axes>"
            ],
            "image/png": "[encoded data removed]"
          },
          "metadata": {}
        }
      ]
    },
    {
      "cell_type": "code",
      "source": [
        "process_comparative_scheme('layer number', 1, 12, False)"
      ],
      "metadata": {
        "colab": {
          "base_uri": "https://localhost:8080/",
          "height": 429
        },
        "id": "VkaLgT8LnAOV",
        "outputId": "3cd98cec-901d-49c9-b784-3ca82e3b0e13"
      },
      "execution_count": 51,
      "outputs": [
        {
          "output_type": "stream",
          "name": "stderr",
          "text": [
            "100%|██████████| 11/11 [00:22<00:00,  2.01s/it]\n"
          ]
        },
        {
          "output_type": "display_data",
          "data": {
            "text/plain": [
              "<Figure size 1200x400 with 2 Axes>"
            ],
            "image/png": "[encoded data removed]"
          },
          "metadata": {}
        }
      ]
    },
    {
      "cell_type": "code",
      "source": [
        "process_comparative_scheme('embedding dim', 3, 11, True)"
      ],
      "metadata": {
        "colab": {
          "base_uri": "https://localhost:8080/",
          "height": 434
        },
        "id": "6bYQ4T-81gPc",
        "outputId": "5ffe535f-7466-4a2a-f9bb-a1c344603084"
      },
      "execution_count": 50,
      "outputs": [
        {
          "output_type": "stream",
          "name": "stderr",
          "text": [
            "100%|██████████| 8/8 [00:14<00:00,  1.78s/it]\n"
          ]
        },
        {
          "output_type": "display_data",
          "data": {
            "text/plain": [
              "<Figure size 1200x400 with 2 Axes>"
            ],
            "image/png": "[encoded data removed]"
          },
          "metadata": {}
        }
      ]
    },
    {
      "cell_type": "markdown",
      "source": [
        "## Quantization on Pre-trained LLM (GPT2)"
      ],
      "metadata": {
        "id": "YK6o5_gvGyB6"
      }
    },
    {
      "cell_type": "code",
      "source": [
        "tokenizer = GPT2Tokenizer.from_pretrained('gpt2')\n",
        "gpt2_model = GPT2LMHeadModel.from_pretrained('gpt2')"
      ],
      "metadata": {
        "colab": {
          "base_uri": "https://localhost:8080/",
          "height": 241,
          "referenced_widgets": [
            "d8b26cce69e94632a6b35bb89167965a",
            "1b550486a9c746caba5fb3268e6520a0",
            "24aec3f1524545f083a791fcbfbd79dd",
            "5890f3dc31b04acd8ff4936ca8c0bd99",
            "e80bf188af414addb48ae3c9a9155314",
            "2c0e86a87fcc497d9967c21894f712d1",
            "931cd7340ff7448c8755f158a0aca1d4",
            "45d8b4cf53384db2a579dbcf1a6c8528",
            "c64aac41d0a4499fa8577ffb4bda4c40",
            "9878b8dce09144f487ede7f3b8e7de55",
            "eb5395fc41544240840a4324bdf345bf",
            "fbf03b600d0c4655af52f10770d87de7",
            "9061edd7723e4a8f980d133ca5a30fe2",
            "d5970b2271b2428498329d6e6a9174f2",
            "13980191ed144f32b8bcaf35a05cd7ad",
            "1a96cb47858e43898a49c1b17492cb68",
            "7a0c4dee51314889b714e369b4425fa8",
            "6fa5da8387d54a428f1e9914fb71fe0e",
            "fe5c6d49ff2949ccbb56fad65707ef38",
            "ef7c9f7483cb4f418208499dbcbc1cc6",
            "6b0b0fa75a624dd3b106841bfdc30f35",
            "6d5d45c7b0614bf3a0cfc1736b4659ee",
            "a997c57aced9486e916843ec6dd4f7fb",
            "17fe951820af49ee9fae37d4ec344e9b",
            "296b2ad3f2aa4a03b90a2986a71c7a1d",
            "4629e2f9d8974fdca0f6d6dd3efd2e4f",
            "138a3326db2842e2bb67cef267a08111",
            "5f84653a5cb341ab93495f5fe5de264e",
            "e71b5ea60e5a4c898ef690ad6e572687",
            "53a99d9ed482480fb916c0998687191f",
            "14cc442052e74d9c8f98793a69511e11",
            "3ad7a891ebd648548fda3d47ab28f84d",
            "be7eae48fb3247a99d5c4d20aee5d8d4",
            "884c09f548f44e8489f1609aa2144904",
            "fe6eb985a25b42928276d15ca31e6e60",
            "c24c8b6f288b4c6482f41a935bc1850e",
            "a05fb0f517f04259b65670ddc6a14567",
            "985b7d7621624cacb395d9a8b83e40b1",
            "9279ba6d816c47de9c50cea80f89e051",
            "368d793df5f249828520aea81904afd8",
            "e35683496f064df49fcc3e5b21280a6a",
            "7e0afc14d7694a8995983e8a037f973c",
            "00ef0a20bd1744df83c0b16cfe92524d",
            "13d7cb20cc4a4c9ea50c40ef0f9fd083",
            "008a7703c2d54f3fa312059baf744608",
            "4d5047850b514f25a0f678944512d55b",
            "ba84bcff28194251bc7427d647dab716",
            "ef80d6bcb20041638910be0b1c6f481a",
            "1edff25f41a84e5b8490aa32d252da46",
            "d6bf0f4ff275432ab8c4d15d74d6854b",
            "d43c41c740be455fa5a98b8335b8b9c7",
            "988c92ba1e6246dbb143551d18ddc712",
            "cb9507823b794e40b9bbb909c85028ed",
            "03370710441641bbaacb991dbc95b17e",
            "f778b56f9c3a4f4eb9230c0d1e294611",
            "a14d4a4783bc4f1e9494e1d9c637b80a",
            "d98f238353384bd39d9fd24df0f7b8e1",
            "84de887925dc44c69c0d719be0a08d9c",
            "3f2e8e40a56f42abb82640b5d8859512",
            "bebd7140bd834ea9accb5dd275b64362",
            "f21f9b9a546847dda97b23879606761b",
            "3fa1b002047a47f989b4b5bd3c559618",
            "19ce799f2c5441e99fb93bd8a1c0135c",
            "895073dbce4c482b80aea07d6b1d28fd",
            "1ece9f81ae3f499ba19f10256c643266",
            "d017f12bf6484b4683ce7b994c66f19e",
            "114950d99fc04b8986f9777f8bc3d83c",
            "62f6935c94ca468f8b59d5fa1903dc0b",
            "f1b77b64a4e84486b52c009dd34fbb59",
            "2112d5e0a9b1487aae7fa34859f7572c",
            "1be826531b7c40b99e65299d0a1fec18",
            "a02f61ca458a45ea85152b0dc30c7702",
            "852b518b1c3f492392be11edaa9a01d8",
            "ab8f99988ac24272baf121e5f070edcb",
            "726c0b2033a94f2f8877d2ea9231736d",
            "86d10568564a4ec89eb93e89d62af467",
            "aec17006493d4d0faa4de028611ef40b"
          ]
        },
        "id": "YGZU0wKxG2Y_",
        "outputId": "906427ac-da9e-4c69-e22d-4f12a1c254da"
      },
      "execution_count": 17,
      "outputs": [
        {
          "output_type": "display_data",
          "data": {
            "text/plain": [
              "tokenizer_config.json:   0%|          | 0.00/26.0 [00:00<?, ?B/s]"
            ],
            "application/vnd.jupyter.widget-view+json": {
              "version_major": 2,
              "version_minor": 0,
              "model_id": "d8b26cce69e94632a6b35bb89167965a"
            }
          },
          "metadata": {}
        },
        {
          "output_type": "display_data",
          "data": {
            "text/plain": [
              "vocab.json:   0%|          | 0.00/1.04M [00:00<?, ?B/s]"
            ],
            "application/vnd.jupyter.widget-view+json": {
              "version_major": 2,
              "version_minor": 0,
              "model_id": "fbf03b600d0c4655af52f10770d87de7"
            }
          },
          "metadata": {}
        },
        {
          "output_type": "display_data",
          "data": {
            "text/plain": [
              "merges.txt:   0%|          | 0.00/456k [00:00<?, ?B/s]"
            ],
            "application/vnd.jupyter.widget-view+json": {
              "version_major": 2,
              "version_minor": 0,
              "model_id": "a997c57aced9486e916843ec6dd4f7fb"
            }
          },
          "metadata": {}
        },
        {
          "output_type": "display_data",
          "data": {
            "text/plain": [
              "tokenizer.json:   0%|          | 0.00/1.36M [00:00<?, ?B/s]"
            ],
            "application/vnd.jupyter.widget-view+json": {
              "version_major": 2,
              "version_minor": 0,
              "model_id": "884c09f548f44e8489f1609aa2144904"
            }
          },
          "metadata": {}
        },
        {
          "output_type": "display_data",
          "data": {
            "text/plain": [
              "config.json:   0%|          | 0.00/665 [00:00<?, ?B/s]"
            ],
            "application/vnd.jupyter.widget-view+json": {
              "version_major": 2,
              "version_minor": 0,
              "model_id": "008a7703c2d54f3fa312059baf744608"
            }
          },
          "metadata": {}
        },
        {
          "output_type": "display_data",
          "data": {
            "text/plain": [
              "model.safetensors:   0%|          | 0.00/548M [00:00<?, ?B/s]"
            ],
            "application/vnd.jupyter.widget-view+json": {
              "version_major": 2,
              "version_minor": 0,
              "model_id": "a14d4a4783bc4f1e9494e1d9c637b80a"
            }
          },
          "metadata": {}
        },
        {
          "output_type": "display_data",
          "data": {
            "text/plain": [
              "generation_config.json:   0%|          | 0.00/124 [00:00<?, ?B/s]"
            ],
            "application/vnd.jupyter.widget-view+json": {
              "version_major": 2,
              "version_minor": 0,
              "model_id": "114950d99fc04b8986f9777f8bc3d83c"
            }
          },
          "metadata": {}
        }
      ]
    },
    {
      "cell_type": "code",
      "source": [
        "gpt2_model"
      ],
      "metadata": {
        "colab": {
          "base_uri": "https://localhost:8080/"
        },
        "id": "mCEJ-ek4ITSF",
        "outputId": "22f84785-f09b-4124-a0df-89c183c8b2cf"
      },
      "execution_count": 18,
      "outputs": [
        {
          "output_type": "execute_result",
          "data": {
            "text/plain": [
              "GPT2LMHeadModel(\n",
              "  (transformer): GPT2Model(\n",
              "    (wte): Embedding(50257, 768)\n",
              "    (wpe): Embedding(1024, 768)\n",
              "    (drop): Dropout(p=0.1, inplace=False)\n",
              "    (h): ModuleList(\n",
              "      (0-11): 12 x GPT2Block(\n",
              "        (ln_1): LayerNorm((768,), eps=1e-05, elementwise_affine=True)\n",
              "        (attn): GPT2Attention(\n",
              "          (c_attn): Conv1D(nf=2304, nx=768)\n",
              "          (c_proj): Conv1D(nf=768, nx=768)\n",
              "          (attn_dropout): Dropout(p=0.1, inplace=False)\n",
              "          (resid_dropout): Dropout(p=0.1, inplace=False)\n",
              "        )\n",
              "        (ln_2): LayerNorm((768,), eps=1e-05, elementwise_affine=True)\n",
              "        (mlp): GPT2MLP(\n",
              "          (c_fc): Conv1D(nf=3072, nx=768)\n",
              "          (c_proj): Conv1D(nf=768, nx=3072)\n",
              "          (act): NewGELUActivation()\n",
              "          (dropout): Dropout(p=0.1, inplace=False)\n",
              "        )\n",
              "      )\n",
              "    )\n",
              "    (ln_f): LayerNorm((768,), eps=1e-05, elementwise_affine=True)\n",
              "  )\n",
              "  (lm_head): Linear(in_features=768, out_features=50257, bias=False)\n",
              ")"
            ]
          },
          "metadata": {},
          "execution_count": 18
        }
      ]
    },
    {
      "cell_type": "code",
      "source": [
        "def convert_conv1d_to_linear(conv1d):\n",
        "  linear = nn.Linear(conv1d.weight.shape[0], conv1d.weight.shape[1])\n",
        "  with torch.no_grad():\n",
        "      linear.weight.copy_(conv1d.weight.T)\n",
        "      linear.bias.copy_(conv1d.bias)\n",
        "  return linear"
      ],
      "metadata": {
        "id": "cayvQQ_mL8wK"
      },
      "execution_count": 52,
      "outputs": []
    },
    {
      "cell_type": "code",
      "source": [
        "def replace_conv1d_with_linear(module, names):\n",
        "  for name, child in module.named_children():\n",
        "    if isinstance(child, modeling_utils.Conv1D):\n",
        "      if name in names:\n",
        "        setattr(module, name, convert_conv1d_to_linear(child))\n",
        "    else:\n",
        "      replace_conv1d_with_linear(child, names)"
      ],
      "metadata": {
        "id": "YhZAgC6PKR7A"
      },
      "execution_count": 54,
      "outputs": []
    },
    {
      "cell_type": "markdown",
      "source": [
        "### Inference Demo"
      ],
      "metadata": {
        "id": "jjPEOMR4YYM-"
      }
    },
    {
      "cell_type": "code",
      "source": [
        "def HF_GPT2_generator(model, starter_text, max_new_tokens=10):\n",
        "    model.to(DEVICE)\n",
        "    model.eval()\n",
        "\n",
        "    input_ids = tokenizer.encode(starter_text, return_tensors='pt').to(DEVICE)\n",
        "    generated = input_ids\n",
        "    times = []\n",
        "\n",
        "    with torch.no_grad():\n",
        "        for _ in trange(max_new_tokens):\n",
        "          start = time.time()\n",
        "          outputs = model(generated)\n",
        "          outputs = model(generated)\n",
        "          end = time.time()\n",
        "          times.append(end - start)\n",
        "          logits = outputs.logits\n",
        "\n",
        "          next_token_logits = logits[:, -1, :]\n",
        "          next_token_id = torch.argmax(next_token_logits, dim=-1).unsqueeze(-1)\n",
        "\n",
        "          generated = torch.cat((generated, next_token_id), dim=1)\n",
        "    print('')\n",
        "    print(f'average inference time: {statistics.mean(times):.8f}s, standard deviation: {statistics.stdev(times):.8f}s')\n",
        "    generated_text = tokenizer.decode(generated[0], skip_special_tokens=True)\n",
        "    return generated_text"
      ],
      "metadata": {
        "id": "j-qDPkwVPu9W"
      },
      "execution_count": 38,
      "outputs": []
    },
    {
      "cell_type": "code",
      "source": [
        "text = \"As Gregor Samsa awoke one morning from uneasy dreams he found himself \""
      ],
      "metadata": {
        "id": "o_Tc-seYIEy7"
      },
      "execution_count": 39,
      "outputs": []
    },
    {
      "cell_type": "code",
      "source": [
        "ret = HF_GPT2_generator(gpt2_model, text, max_new_tokens=20)\n",
        "print('\\ngenerated text:')\n",
        "print(textwrap.fill(ret, width=80))"
      ],
      "metadata": {
        "colab": {
          "base_uri": "https://localhost:8080/"
        },
        "id": "vrvnr0WUO7bn",
        "outputId": "99bb32ef-952d-4095-fd7a-aa094daab8da"
      },
      "execution_count": 40,
      "outputs": [
        {
          "output_type": "stream",
          "name": "stderr",
          "text": [
            "100%|██████████| 20/20 [00:02<00:00,  7.67it/s]"
          ]
        },
        {
          "output_type": "stream",
          "name": "stdout",
          "text": [
            "\n",
            "average inference time: 0.12916425s, standard deviation: 0.01657788s\n",
            "\n",
            "generated text:\n",
            "As Gregor Samsa awoke one morning from uneasy dreams he found himself  in the\n",
            "middle of a battle with a demon. He was in the middle of a battle with\n"
          ]
        },
        {
          "output_type": "stream",
          "name": "stderr",
          "text": [
            "\n"
          ]
        }
      ]
    },
    {
      "cell_type": "code",
      "source": [
        "# only lm header\n",
        "gpt2_model_header_dq = torch.ao.quantization.quantize_dynamic(gpt2_model, {nn.Linear}, dtype=torch.qint8)\n",
        "print(gpt2_model_header_dq)\n",
        "ret = HF_GPT2_generator(gpt2_model_header_dq, text, max_new_tokens=20)\n",
        "print('\\ngenerated text:')\n",
        "print(textwrap.fill(ret, width=80))\n",
        "del gpt2_model_header_dq"
      ],
      "metadata": {
        "colab": {
          "base_uri": "https://localhost:8080/"
        },
        "id": "x3ylZyE2OHh4",
        "outputId": "e5915d8b-248f-4ff8-8035-8e9a6f3fde3f"
      },
      "execution_count": 48,
      "outputs": [
        {
          "output_type": "stream",
          "name": "stdout",
          "text": [
            "GPT2LMHeadModel(\n",
            "  (transformer): GPT2Model(\n",
            "    (wte): Embedding(50257, 768)\n",
            "    (wpe): Embedding(1024, 768)\n",
            "    (drop): Dropout(p=0.1, inplace=False)\n",
            "    (h): ModuleList(\n",
            "      (0-11): 12 x GPT2Block(\n",
            "        (ln_1): LayerNorm((768,), eps=1e-05, elementwise_affine=True)\n",
            "        (attn): GPT2Attention(\n",
            "          (c_attn): Conv1D(nf=2304, nx=768)\n",
            "          (c_proj): Conv1D(nf=768, nx=768)\n",
            "          (attn_dropout): Dropout(p=0.1, inplace=False)\n",
            "          (resid_dropout): Dropout(p=0.1, inplace=False)\n",
            "        )\n",
            "        (ln_2): LayerNorm((768,), eps=1e-05, elementwise_affine=True)\n",
            "        (mlp): GPT2MLP(\n",
            "          (c_fc): Conv1D(nf=3072, nx=768)\n",
            "          (c_proj): Conv1D(nf=768, nx=3072)\n",
            "          (act): NewGELUActivation()\n",
            "          (dropout): Dropout(p=0.1, inplace=False)\n",
            "        )\n",
            "      )\n",
            "    )\n",
            "    (ln_f): LayerNorm((768,), eps=1e-05, elementwise_affine=True)\n",
            "  )\n",
            "  (lm_head): DynamicQuantizedLinear(in_features=768, out_features=50257, dtype=torch.qint8, qscheme=torch.per_tensor_affine)\n",
            ")\n"
          ]
        },
        {
          "output_type": "stream",
          "name": "stderr",
          "text": [
            "100%|██████████| 20/20 [00:01<00:00, 10.46it/s]"
          ]
        },
        {
          "output_type": "stream",
          "name": "stdout",
          "text": [
            "\n",
            "average inference time: 0.09504387s, standard deviation: 0.00919006s\n",
            "\n",
            "generated text:\n",
            "As Gregor Samsa awoke one morning from uneasy dreams he found himself iced and\n",
            "and, among Tibetan slaves laden underground lending liquor brewed perilingly\n",
            "pleasantly afterwards. Watching Lent\n"
          ]
        },
        {
          "output_type": "stream",
          "name": "stderr",
          "text": [
            "\n"
          ]
        }
      ]
    },
    {
      "cell_type": "code",
      "source": [
        "# feed-forward + attention layer + lm header\n",
        "gpt2_model_proj_dq = copy.deepcopy(gpt2_model)\n",
        "replace_conv1d_with_linear(gpt2_model_proj_dq, ['c_proj'])\n",
        "gpt2_model_proj_dq = torch.ao.quantization.quantize_dynamic(gpt2_model_proj_dq, {nn.Linear}, dtype=torch.qint8)\n",
        "print(gpt2_model_proj_dq)\n",
        "ret = HF_GPT2_generator(gpt2_model_proj_dq, text, max_new_tokens=20)\n",
        "print('\\ngenerated text:')\n",
        "print(textwrap.fill(ret, width=80))\n",
        "del gpt2_model_proj_dq"
      ],
      "metadata": {
        "colab": {
          "base_uri": "https://localhost:8080/"
        },
        "id": "1oH02ZkqOisV",
        "outputId": "7a2ada8c-3466-43b5-fb70-e5f88b45032e"
      },
      "execution_count": 55,
      "outputs": [
        {
          "output_type": "stream",
          "name": "stdout",
          "text": [
            "GPT2LMHeadModel(\n",
            "  (transformer): GPT2Model(\n",
            "    (wte): Embedding(50257, 768)\n",
            "    (wpe): Embedding(1024, 768)\n",
            "    (drop): Dropout(p=0.1, inplace=False)\n",
            "    (h): ModuleList(\n",
            "      (0-11): 12 x GPT2Block(\n",
            "        (ln_1): LayerNorm((768,), eps=1e-05, elementwise_affine=True)\n",
            "        (attn): GPT2Attention(\n",
            "          (c_attn): Conv1D(nf=2304, nx=768)\n",
            "          (c_proj): DynamicQuantizedLinear(in_features=768, out_features=768, dtype=torch.qint8, qscheme=torch.per_tensor_affine)\n",
            "          (attn_dropout): Dropout(p=0.1, inplace=False)\n",
            "          (resid_dropout): Dropout(p=0.1, inplace=False)\n",
            "        )\n",
            "        (ln_2): LayerNorm((768,), eps=1e-05, elementwise_affine=True)\n",
            "        (mlp): GPT2MLP(\n",
            "          (c_fc): Conv1D(nf=3072, nx=768)\n",
            "          (c_proj): DynamicQuantizedLinear(in_features=3072, out_features=768, dtype=torch.qint8, qscheme=torch.per_tensor_affine)\n",
            "          (act): NewGELUActivation()\n",
            "          (dropout): Dropout(p=0.1, inplace=False)\n",
            "        )\n",
            "      )\n",
            "    )\n",
            "    (ln_f): LayerNorm((768,), eps=1e-05, elementwise_affine=True)\n",
            "  )\n",
            "  (lm_head): DynamicQuantizedLinear(in_features=768, out_features=50257, dtype=torch.qint8, qscheme=torch.per_tensor_affine)\n",
            ")\n"
          ]
        },
        {
          "output_type": "stream",
          "name": "stderr",
          "text": [
            "100%|██████████| 20/20 [00:01<00:00, 11.22it/s]"
          ]
        },
        {
          "output_type": "stream",
          "name": "stdout",
          "text": [
            "\n",
            "average inference time: 0.08843330s, standard deviation: 0.01978535s\n",
            "\n",
            "generated text:\n",
            "As Gregor Samsa awoke one morning from uneasy dreams he found himself piralled,\n",
            "the \"pudent and the \"a, and, the, the, the\n"
          ]
        },
        {
          "output_type": "stream",
          "name": "stderr",
          "text": [
            "\n"
          ]
        }
      ]
    },
    {
      "cell_type": "code",
      "source": [
        "# attention layer + lm header\n",
        "gpt2_model_attn_dq = copy.deepcopy(gpt2_model)\n",
        "replace_conv1d_with_linear(gpt2_model_attn_dq, {'c_attn'})\n",
        "gpt2_model_attn_dq = torch.ao.quantization.quantize_dynamic(gpt2_model_attn_dq, {nn.Linear}, dtype=torch.qint8)\n",
        "print(gpt2_model_attn_dq)\n",
        "ret = HF_GPT2_generator(gpt2_model_attn_dq, text, max_new_tokens=20)\n",
        "print('\\ngenerated text:')\n",
        "print(textwrap.fill(ret, width=80))\n",
        "del gpt2_model_attn_dq"
      ],
      "metadata": {
        "colab": {
          "base_uri": "https://localhost:8080/"
        },
        "id": "RIxlrWCkdxga",
        "outputId": "e2e21667-2124-45e7-9693-33b8c4fa57eb"
      },
      "execution_count": 56,
      "outputs": [
        {
          "output_type": "stream",
          "name": "stdout",
          "text": [
            "GPT2LMHeadModel(\n",
            "  (transformer): GPT2Model(\n",
            "    (wte): Embedding(50257, 768)\n",
            "    (wpe): Embedding(1024, 768)\n",
            "    (drop): Dropout(p=0.1, inplace=False)\n",
            "    (h): ModuleList(\n",
            "      (0-11): 12 x GPT2Block(\n",
            "        (ln_1): LayerNorm((768,), eps=1e-05, elementwise_affine=True)\n",
            "        (attn): GPT2Attention(\n",
            "          (c_attn): DynamicQuantizedLinear(in_features=768, out_features=2304, dtype=torch.qint8, qscheme=torch.per_tensor_affine)\n",
            "          (c_proj): Conv1D(nf=768, nx=768)\n",
            "          (attn_dropout): Dropout(p=0.1, inplace=False)\n",
            "          (resid_dropout): Dropout(p=0.1, inplace=False)\n",
            "        )\n",
            "        (ln_2): LayerNorm((768,), eps=1e-05, elementwise_affine=True)\n",
            "        (mlp): GPT2MLP(\n",
            "          (c_fc): Conv1D(nf=3072, nx=768)\n",
            "          (c_proj): Conv1D(nf=768, nx=3072)\n",
            "          (act): NewGELUActivation()\n",
            "          (dropout): Dropout(p=0.1, inplace=False)\n",
            "        )\n",
            "      )\n",
            "    )\n",
            "    (ln_f): LayerNorm((768,), eps=1e-05, elementwise_affine=True)\n",
            "  )\n",
            "  (lm_head): DynamicQuantizedLinear(in_features=768, out_features=50257, dtype=torch.qint8, qscheme=torch.per_tensor_affine)\n",
            ")\n"
          ]
        },
        {
          "output_type": "stream",
          "name": "stderr",
          "text": [
            "100%|██████████| 20/20 [00:01<00:00, 11.22it/s]\n"
          ]
        },
        {
          "output_type": "stream",
          "name": "stdout",
          "text": [
            "\n",
            "average inference time: 0.08849084s, standard deviation: 0.00896161s\n",
            "\n",
            "generated text:\n",
            "As Gregor Samsa awoke one morning from uneasy dreams he found himself iced in\n",
            "the one, the \"pigliterest, the \"futernight-b\n"
          ]
        }
      ]
    },
    {
      "cell_type": "code",
      "source": [
        "gpt2_model_dq = copy.deepcopy(gpt2_model)\n",
        "replace_conv1d_with_linear(gpt2_model_dq, {'c_attn', 'c_fc', 'c_proj'})\n",
        "gpt2_model_dq = torch.ao.quantization.quantize_dynamic(gpt2_model_dq, {nn.Linear}, dtype=torch.qint8)\n",
        "print(gpt2_model_dq)\n",
        "ret = HF_GPT2_generator(gpt2_model_dq, text, max_new_tokens=20)\n",
        "print('\\ngenerated text:')\n",
        "print(textwrap.fill(ret, width=80))"
      ],
      "metadata": {
        "colab": {
          "base_uri": "https://localhost:8080/"
        },
        "id": "qGbwPoD6d-Vx",
        "outputId": "159726d4-8b0e-4b66-c5be-3f0666108b44"
      },
      "execution_count": 57,
      "outputs": [
        {
          "output_type": "stream",
          "name": "stdout",
          "text": [
            "GPT2LMHeadModel(\n",
            "  (transformer): GPT2Model(\n",
            "    (wte): Embedding(50257, 768)\n",
            "    (wpe): Embedding(1024, 768)\n",
            "    (drop): Dropout(p=0.1, inplace=False)\n",
            "    (h): ModuleList(\n",
            "      (0-11): 12 x GPT2Block(\n",
            "        (ln_1): LayerNorm((768,), eps=1e-05, elementwise_affine=True)\n",
            "        (attn): GPT2Attention(\n",
            "          (c_attn): DynamicQuantizedLinear(in_features=768, out_features=2304, dtype=torch.qint8, qscheme=torch.per_tensor_affine)\n",
            "          (c_proj): DynamicQuantizedLinear(in_features=768, out_features=768, dtype=torch.qint8, qscheme=torch.per_tensor_affine)\n",
            "          (attn_dropout): Dropout(p=0.1, inplace=False)\n",
            "          (resid_dropout): Dropout(p=0.1, inplace=False)\n",
            "        )\n",
            "        (ln_2): LayerNorm((768,), eps=1e-05, elementwise_affine=True)\n",
            "        (mlp): GPT2MLP(\n",
            "          (c_fc): DynamicQuantizedLinear(in_features=768, out_features=3072, dtype=torch.qint8, qscheme=torch.per_tensor_affine)\n",
            "          (c_proj): DynamicQuantizedLinear(in_features=3072, out_features=768, dtype=torch.qint8, qscheme=torch.per_tensor_affine)\n",
            "          (act): NewGELUActivation()\n",
            "          (dropout): Dropout(p=0.1, inplace=False)\n",
            "        )\n",
            "      )\n",
            "    )\n",
            "    (ln_f): LayerNorm((768,), eps=1e-05, elementwise_affine=True)\n",
            "  )\n",
            "  (lm_head): DynamicQuantizedLinear(in_features=768, out_features=50257, dtype=torch.qint8, qscheme=torch.per_tensor_affine)\n",
            ")\n"
          ]
        },
        {
          "output_type": "stream",
          "name": "stderr",
          "text": [
            "100%|██████████| 20/20 [00:01<00:00, 17.30it/s]"
          ]
        },
        {
          "output_type": "stream",
          "name": "stdout",
          "text": [
            "\n",
            "average inference time: 0.05726343s, standard deviation: 0.01772987s\n",
            "\n",
            "generated text:\n",
            "As Gregor Samsa awoke one morning from uneasy dreams he found himself uk, and\n",
            "challengcery challengallery condemglomerallery condemventures condemciplallery\n",
            "condemciplenza condemestate\n"
          ]
        },
        {
          "output_type": "stream",
          "name": "stderr",
          "text": [
            "\n"
          ]
        }
      ]
    },
    {
      "cell_type": "markdown",
      "source": [
        "## Citations\n",
        "[1] \"IEEE Standard 754 Floating Point Numbers\" https://www.geeksforgeeks.org/ieee-standard-754-floating-point-numbers/\n",
        "\n",
        "[2] \"The Swift Programming Language: Advanced Operators\" https://docs.swift.org/swift-book/documentation/the-swift-programming-language/advancedoperators/\n",
        "\n",
        "[3] Raschka, Sebastian. *Build a Large Language Model (From Scratch)*. Manning Publisher: 2014.\n",
        "\n",
        "[4] \"GPT-2 Detailed Model Architecture\" https://medium.com/@hsinhungw/gpt-2-detailed-model-architecture-6b1aad33d16b"
      ],
      "metadata": {
        "id": "JsM790iC6uTr"
      }
    }
  ]
}